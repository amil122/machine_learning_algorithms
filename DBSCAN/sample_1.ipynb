{
 "cells": [
  {
   "cell_type": "code",
   "execution_count": 1,
   "id": "9acf82e0",
   "metadata": {},
   "outputs": [],
   "source": [
    "import matplotlib.pyplot as plt\n",
    "import seaborn as sns \n",
    "import numpy as np\n",
    "import pandas as pd\n",
    "from sklearn.cluster import DBSCAN"
   ]
  },
  {
   "cell_type": "code",
   "execution_count": 2,
   "id": "d4099c96",
   "metadata": {},
   "outputs": [],
   "source": [
    "df = pd.read_csv('data_set/Mall_Customers.csv')"
   ]
  },
  {
   "cell_type": "code",
   "execution_count": 3,
   "id": "c1bd58b8",
   "metadata": {},
   "outputs": [
    {
     "data": {
      "text/html": [
       "<div>\n",
       "<style scoped>\n",
       "    .dataframe tbody tr th:only-of-type {\n",
       "        vertical-align: middle;\n",
       "    }\n",
       "\n",
       "    .dataframe tbody tr th {\n",
       "        vertical-align: top;\n",
       "    }\n",
       "\n",
       "    .dataframe thead th {\n",
       "        text-align: right;\n",
       "    }\n",
       "</style>\n",
       "<table border=\"1\" class=\"dataframe\">\n",
       "  <thead>\n",
       "    <tr style=\"text-align: right;\">\n",
       "      <th></th>\n",
       "      <th>CustomerID</th>\n",
       "      <th>Gender</th>\n",
       "      <th>Age</th>\n",
       "      <th>Annual Income (k$)</th>\n",
       "      <th>Spending Score (1-100)</th>\n",
       "    </tr>\n",
       "  </thead>\n",
       "  <tbody>\n",
       "    <tr>\n",
       "      <th>0</th>\n",
       "      <td>1</td>\n",
       "      <td>Male</td>\n",
       "      <td>19</td>\n",
       "      <td>15</td>\n",
       "      <td>39</td>\n",
       "    </tr>\n",
       "    <tr>\n",
       "      <th>1</th>\n",
       "      <td>2</td>\n",
       "      <td>Male</td>\n",
       "      <td>21</td>\n",
       "      <td>15</td>\n",
       "      <td>81</td>\n",
       "    </tr>\n",
       "    <tr>\n",
       "      <th>2</th>\n",
       "      <td>3</td>\n",
       "      <td>Female</td>\n",
       "      <td>20</td>\n",
       "      <td>16</td>\n",
       "      <td>6</td>\n",
       "    </tr>\n",
       "    <tr>\n",
       "      <th>3</th>\n",
       "      <td>4</td>\n",
       "      <td>Female</td>\n",
       "      <td>23</td>\n",
       "      <td>16</td>\n",
       "      <td>77</td>\n",
       "    </tr>\n",
       "    <tr>\n",
       "      <th>4</th>\n",
       "      <td>5</td>\n",
       "      <td>Female</td>\n",
       "      <td>31</td>\n",
       "      <td>17</td>\n",
       "      <td>40</td>\n",
       "    </tr>\n",
       "  </tbody>\n",
       "</table>\n",
       "</div>"
      ],
      "text/plain": [
       "   CustomerID  Gender  Age  Annual Income (k$)  Spending Score (1-100)\n",
       "0           1    Male   19                  15                      39\n",
       "1           2    Male   21                  15                      81\n",
       "2           3  Female   20                  16                       6\n",
       "3           4  Female   23                  16                      77\n",
       "4           5  Female   31                  17                      40"
      ]
     },
     "execution_count": 3,
     "metadata": {},
     "output_type": "execute_result"
    }
   ],
   "source": [
    "df.head()"
   ]
  },
  {
   "cell_type": "code",
   "execution_count": 4,
   "id": "86501c7b",
   "metadata": {},
   "outputs": [
    {
     "data": {
      "text/html": [
       "<div>\n",
       "<style scoped>\n",
       "    .dataframe tbody tr th:only-of-type {\n",
       "        vertical-align: middle;\n",
       "    }\n",
       "\n",
       "    .dataframe tbody tr th {\n",
       "        vertical-align: top;\n",
       "    }\n",
       "\n",
       "    .dataframe thead th {\n",
       "        text-align: right;\n",
       "    }\n",
       "</style>\n",
       "<table border=\"1\" class=\"dataframe\">\n",
       "  <thead>\n",
       "    <tr style=\"text-align: right;\">\n",
       "      <th></th>\n",
       "      <th>CustomerID</th>\n",
       "      <th>Age</th>\n",
       "      <th>Annual Income (k$)</th>\n",
       "      <th>Spending Score (1-100)</th>\n",
       "    </tr>\n",
       "  </thead>\n",
       "  <tbody>\n",
       "    <tr>\n",
       "      <th>count</th>\n",
       "      <td>200.000000</td>\n",
       "      <td>200.000000</td>\n",
       "      <td>200.000000</td>\n",
       "      <td>200.000000</td>\n",
       "    </tr>\n",
       "    <tr>\n",
       "      <th>mean</th>\n",
       "      <td>100.500000</td>\n",
       "      <td>38.850000</td>\n",
       "      <td>60.560000</td>\n",
       "      <td>50.200000</td>\n",
       "    </tr>\n",
       "    <tr>\n",
       "      <th>std</th>\n",
       "      <td>57.879185</td>\n",
       "      <td>13.969007</td>\n",
       "      <td>26.264721</td>\n",
       "      <td>25.823522</td>\n",
       "    </tr>\n",
       "    <tr>\n",
       "      <th>min</th>\n",
       "      <td>1.000000</td>\n",
       "      <td>18.000000</td>\n",
       "      <td>15.000000</td>\n",
       "      <td>1.000000</td>\n",
       "    </tr>\n",
       "    <tr>\n",
       "      <th>25%</th>\n",
       "      <td>50.750000</td>\n",
       "      <td>28.750000</td>\n",
       "      <td>41.500000</td>\n",
       "      <td>34.750000</td>\n",
       "    </tr>\n",
       "    <tr>\n",
       "      <th>50%</th>\n",
       "      <td>100.500000</td>\n",
       "      <td>36.000000</td>\n",
       "      <td>61.500000</td>\n",
       "      <td>50.000000</td>\n",
       "    </tr>\n",
       "    <tr>\n",
       "      <th>75%</th>\n",
       "      <td>150.250000</td>\n",
       "      <td>49.000000</td>\n",
       "      <td>78.000000</td>\n",
       "      <td>73.000000</td>\n",
       "    </tr>\n",
       "    <tr>\n",
       "      <th>max</th>\n",
       "      <td>200.000000</td>\n",
       "      <td>70.000000</td>\n",
       "      <td>137.000000</td>\n",
       "      <td>99.000000</td>\n",
       "    </tr>\n",
       "  </tbody>\n",
       "</table>\n",
       "</div>"
      ],
      "text/plain": [
       "       CustomerID         Age  Annual Income (k$)  Spending Score (1-100)\n",
       "count  200.000000  200.000000          200.000000              200.000000\n",
       "mean   100.500000   38.850000           60.560000               50.200000\n",
       "std     57.879185   13.969007           26.264721               25.823522\n",
       "min      1.000000   18.000000           15.000000                1.000000\n",
       "25%     50.750000   28.750000           41.500000               34.750000\n",
       "50%    100.500000   36.000000           61.500000               50.000000\n",
       "75%    150.250000   49.000000           78.000000               73.000000\n",
       "max    200.000000   70.000000          137.000000               99.000000"
      ]
     },
     "execution_count": 4,
     "metadata": {},
     "output_type": "execute_result"
    }
   ],
   "source": [
    "df.describe()"
   ]
  },
  {
   "cell_type": "code",
   "execution_count": 5,
   "id": "bdb67f65",
   "metadata": {},
   "outputs": [
    {
     "data": {
      "text/plain": [
       "<Axes: ylabel='Annual Income (k$)'>"
      ]
     },
     "execution_count": 5,
     "metadata": {},
     "output_type": "execute_result"
    },
    {
     "data": {
      "image/png": "[encoded data removed]",
      "text/plain": [
       "<Figure size 640x480 with 1 Axes>"
      ]
     },
     "metadata": {},
     "output_type": "display_data"
    }
   ],
   "source": [
    "sns.boxplot(data = df, y ='Annual Income (k$)')"
   ]
  },
  {
   "cell_type": "code",
   "execution_count": 6,
   "id": "d44ed4ba",
   "metadata": {},
   "outputs": [
    {
     "data": {
      "text/plain": [
       "<Axes: ylabel='Spending Score (1-100)'>"
      ]
     },
     "execution_count": 6,
     "metadata": {},
     "output_type": "execute_result"
    },
    {
     "data": {
      "image/png": "[encoded data removed]",
      "text/plain": [
       "<Figure size 640x480 with 1 Axes>"
      ]
     },
     "metadata": {},
     "output_type": "display_data"
    }
   ],
   "source": [
    "sns.boxplot(data = df, y ='Spending Score (1-100)')"
   ]
  },
  {
   "cell_type": "code",
   "execution_count": 7,
   "id": "4704701b",
   "metadata": {},
   "outputs": [
    {
     "data": {
      "text/plain": [
       "CustomerID                0\n",
       "Gender                    0\n",
       "Age                       0\n",
       "Annual Income (k$)        0\n",
       "Spending Score (1-100)    0\n",
       "dtype: int64"
      ]
     },
     "execution_count": 7,
     "metadata": {},
     "output_type": "execute_result"
    }
   ],
   "source": [
    "df.isna().sum()"
   ]
  },
  {
   "cell_type": "code",
   "execution_count": 8,
   "id": "a689c956",
   "metadata": {},
   "outputs": [
    {
     "name": "stdout",
     "output_type": "stream",
     "text": [
      "<class 'pandas.core.frame.DataFrame'>\n",
      "RangeIndex: 200 entries, 0 to 199\n",
      "Data columns (total 5 columns):\n",
      " #   Column                  Non-Null Count  Dtype \n",
      "---  ------                  --------------  ----- \n",
      " 0   CustomerID              200 non-null    int64 \n",
      " 1   Gender                  200 non-null    object\n",
      " 2   Age                     200 non-null    int64 \n",
      " 3   Annual Income (k$)      200 non-null    int64 \n",
      " 4   Spending Score (1-100)  200 non-null    int64 \n",
      "dtypes: int64(4), object(1)\n",
      "memory usage: 7.9+ KB\n"
     ]
    }
   ],
   "source": [
    "df.info()"
   ]
  },
  {
   "cell_type": "code",
   "execution_count": 9,
   "id": "62e69c52",
   "metadata": {},
   "outputs": [],
   "source": [
    "from sklearn.cluster import KMeans"
   ]
  },
  {
   "cell_type": "code",
   "execution_count": 10,
   "id": "4680bd82",
   "metadata": {},
   "outputs": [],
   "source": [
    "x = df[['Annual Income (k$)','Spending Score (1-100)']]"
   ]
  },
  {
   "cell_type": "code",
   "execution_count": 11,
   "id": "0685ffe1",
   "metadata": {},
   "outputs": [
    {
     "name": "stderr",
     "output_type": "stream",
     "text": [
      "C:\\Users\\amil\\anaconda3\\Lib\\site-packages\\sklearn\\cluster\\_kmeans.py:870: FutureWarning: The default value of `n_init` will change from 10 to 'auto' in 1.4. Set the value of `n_init` explicitly to suppress the warning\n",
      "  warnings.warn(\n",
      "C:\\Users\\amil\\anaconda3\\Lib\\site-packages\\sklearn\\cluster\\_kmeans.py:1382: UserWarning: KMeans is known to have a memory leak on Windows with MKL, when there are less chunks than available threads. You can avoid it by setting the environment variable OMP_NUM_THREADS=1.\n",
      "  warnings.warn(\n",
      "C:\\Users\\amil\\anaconda3\\Lib\\site-packages\\sklearn\\cluster\\_kmeans.py:870: FutureWarning: The default value of `n_init` will change from 10 to 'auto' in 1.4. Set the value of `n_init` explicitly to suppress the warning\n",
      "  warnings.warn(\n",
      "C:\\Users\\amil\\anaconda3\\Lib\\site-packages\\sklearn\\cluster\\_kmeans.py:1382: UserWarning: KMeans is known to have a memory leak on Windows with MKL, when there are less chunks than available threads. You can avoid it by setting the environment variable OMP_NUM_THREADS=1.\n",
      "  warnings.warn(\n",
      "C:\\Users\\amil\\anaconda3\\Lib\\site-packages\\sklearn\\cluster\\_kmeans.py:870: FutureWarning: The default value of `n_init` will change from 10 to 'auto' in 1.4. Set the value of `n_init` explicitly to suppress the warning\n",
      "  warnings.warn(\n",
      "C:\\Users\\amil\\anaconda3\\Lib\\site-packages\\sklearn\\cluster\\_kmeans.py:1382: UserWarning: KMeans is known to have a memory leak on Windows with MKL, when there are less chunks than available threads. You can avoid it by setting the environment variable OMP_NUM_THREADS=1.\n",
      "  warnings.warn(\n",
      "C:\\Users\\amil\\anaconda3\\Lib\\site-packages\\sklearn\\cluster\\_kmeans.py:870: FutureWarning: The default value of `n_init` will change from 10 to 'auto' in 1.4. Set the value of `n_init` explicitly to suppress the warning\n",
      "  warnings.warn(\n",
      "C:\\Users\\amil\\anaconda3\\Lib\\site-packages\\sklearn\\cluster\\_kmeans.py:1382: UserWarning: KMeans is known to have a memory leak on Windows with MKL, when there are less chunks than available threads. You can avoid it by setting the environment variable OMP_NUM_THREADS=1.\n",
      "  warnings.warn(\n",
      "C:\\Users\\amil\\anaconda3\\Lib\\site-packages\\sklearn\\cluster\\_kmeans.py:870: FutureWarning: The default value of `n_init` will change from 10 to 'auto' in 1.4. Set the value of `n_init` explicitly to suppress the warning\n",
      "  warnings.warn(\n",
      "C:\\Users\\amil\\anaconda3\\Lib\\site-packages\\sklearn\\cluster\\_kmeans.py:1382: UserWarning: KMeans is known to have a memory leak on Windows with MKL, when there are less chunks than available threads. You can avoid it by setting the environment variable OMP_NUM_THREADS=1.\n",
      "  warnings.warn(\n",
      "C:\\Users\\amil\\anaconda3\\Lib\\site-packages\\sklearn\\cluster\\_kmeans.py:870: FutureWarning: The default value of `n_init` will change from 10 to 'auto' in 1.4. Set the value of `n_init` explicitly to suppress the warning\n",
      "  warnings.warn(\n",
      "C:\\Users\\amil\\anaconda3\\Lib\\site-packages\\sklearn\\cluster\\_kmeans.py:1382: UserWarning: KMeans is known to have a memory leak on Windows with MKL, when there are less chunks than available threads. You can avoid it by setting the environment variable OMP_NUM_THREADS=1.\n",
      "  warnings.warn(\n",
      "C:\\Users\\amil\\anaconda3\\Lib\\site-packages\\sklearn\\cluster\\_kmeans.py:870: FutureWarning: The default value of `n_init` will change from 10 to 'auto' in 1.4. Set the value of `n_init` explicitly to suppress the warning\n",
      "  warnings.warn(\n",
      "C:\\Users\\amil\\anaconda3\\Lib\\site-packages\\sklearn\\cluster\\_kmeans.py:1382: UserWarning: KMeans is known to have a memory leak on Windows with MKL, when there are less chunks than available threads. You can avoid it by setting the environment variable OMP_NUM_THREADS=1.\n",
      "  warnings.warn(\n",
      "C:\\Users\\amil\\anaconda3\\Lib\\site-packages\\sklearn\\cluster\\_kmeans.py:870: FutureWarning: The default value of `n_init` will change from 10 to 'auto' in 1.4. Set the value of `n_init` explicitly to suppress the warning\n",
      "  warnings.warn(\n",
      "C:\\Users\\amil\\anaconda3\\Lib\\site-packages\\sklearn\\cluster\\_kmeans.py:1382: UserWarning: KMeans is known to have a memory leak on Windows with MKL, when there are less chunks than available threads. You can avoid it by setting the environment variable OMP_NUM_THREADS=1.\n",
      "  warnings.warn(\n"
     ]
    }
   ],
   "source": [
    "wcss = []\n",
    "for k in range(1,9):\n",
    "    cluster = KMeans(n_clusters = k,init='k-means++', random_state = 0)\n",
    "    cluster.fit(x)\n",
    "    wcss.append(cluster.inertia_)"
   ]
  },
  {
   "cell_type": "code",
   "execution_count": 12,
   "id": "cb00d5e9",
   "metadata": {},
   "outputs": [
    {
     "data": {
      "text/plain": [
       "[269981.28,\n",
       " 181363.595959596,\n",
       " 106348.3730621112,\n",
       " 73679.78903948834,\n",
       " 44448.45544793371,\n",
       " 37265.86520484346,\n",
       " 30259.65720728547,\n",
       " 25095.703209997544]"
      ]
     },
     "execution_count": 12,
     "metadata": {},
     "output_type": "execute_result"
    }
   ],
   "source": [
    "wcss"
   ]
  },
  {
   "cell_type": "code",
   "execution_count": 13,
   "id": "89dc0462",
   "metadata": {},
   "outputs": [
    {
     "data": {
      "text/plain": [
       "[<matplotlib.lines.Line2D at 0x1b86f3d9050>]"
      ]
     },
     "execution_count": 13,
     "metadata": {},
     "output_type": "execute_result"
    },
    {
     "data": {
      "image/png": "[encoded data removed]",
      "text/plain": [
       "<Figure size 640x480 with 1 Axes>"
      ]
     },
     "metadata": {},
     "output_type": "display_data"
    }
   ],
   "source": [
    "plt.plot(range(1,9),wcss)"
   ]
  },
  {
   "cell_type": "code",
   "execution_count": 14,
   "id": "dfff1f62",
   "metadata": {},
   "outputs": [],
   "source": [
    "km = KMeans(n_clusters = 5,init='k-means++', random_state = 30)"
   ]
  },
  {
   "cell_type": "code",
   "execution_count": 15,
   "id": "668f106f",
   "metadata": {},
   "outputs": [
    {
     "name": "stderr",
     "output_type": "stream",
     "text": [
      "C:\\Users\\amil\\anaconda3\\Lib\\site-packages\\sklearn\\cluster\\_kmeans.py:870: FutureWarning: The default value of `n_init` will change from 10 to 'auto' in 1.4. Set the value of `n_init` explicitly to suppress the warning\n",
      "  warnings.warn(\n",
      "C:\\Users\\amil\\anaconda3\\Lib\\site-packages\\sklearn\\cluster\\_kmeans.py:1382: UserWarning: KMeans is known to have a memory leak on Windows with MKL, when there are less chunks than available threads. You can avoid it by setting the environment variable OMP_NUM_THREADS=1.\n",
      "  warnings.warn(\n"
     ]
    },
    {
     "data": {
      "text/plain": [
       "array([4, 0, 4, 0, 4, 0, 4, 0, 4, 0, 4, 0, 4, 0, 4, 0, 4, 0, 4, 0, 4, 0,\n",
       "       4, 0, 4, 0, 4, 0, 4, 0, 4, 0, 4, 0, 4, 0, 4, 0, 4, 0, 4, 0, 4, 1,\n",
       "       4, 0, 1, 1, 1, 1, 1, 1, 1, 1, 1, 1, 1, 1, 1, 1, 1, 1, 1, 1, 1, 1,\n",
       "       1, 1, 1, 1, 1, 1, 1, 1, 1, 1, 1, 1, 1, 1, 1, 1, 1, 1, 1, 1, 1, 1,\n",
       "       1, 1, 1, 1, 1, 1, 1, 1, 1, 1, 1, 1, 1, 1, 1, 1, 1, 1, 1, 1, 1, 1,\n",
       "       1, 1, 1, 1, 1, 1, 1, 1, 1, 1, 1, 1, 1, 3, 2, 3, 1, 3, 2, 3, 2, 3,\n",
       "       1, 3, 2, 3, 2, 3, 2, 3, 2, 3, 1, 3, 2, 3, 2, 3, 2, 3, 2, 3, 2, 3,\n",
       "       2, 3, 2, 3, 2, 3, 2, 3, 2, 3, 2, 3, 2, 3, 2, 3, 2, 3, 2, 3, 2, 3,\n",
       "       2, 3, 2, 3, 2, 3, 2, 3, 2, 3, 2, 3, 2, 3, 2, 3, 2, 3, 2, 3, 2, 3,\n",
       "       2, 3])"
      ]
     },
     "execution_count": 15,
     "metadata": {},
     "output_type": "execute_result"
    }
   ],
   "source": [
    "km.fit_predict(x)"
   ]
  },
  {
   "cell_type": "code",
   "execution_count": 16,
   "id": "af6678e6",
   "metadata": {},
   "outputs": [
    {
     "name": "stderr",
     "output_type": "stream",
     "text": [
      "C:\\Users\\amil\\anaconda3\\Lib\\site-packages\\sklearn\\cluster\\_kmeans.py:870: FutureWarning: The default value of `n_init` will change from 10 to 'auto' in 1.4. Set the value of `n_init` explicitly to suppress the warning\n",
      "  warnings.warn(\n",
      "C:\\Users\\amil\\anaconda3\\Lib\\site-packages\\sklearn\\cluster\\_kmeans.py:1382: UserWarning: KMeans is known to have a memory leak on Windows with MKL, when there are less chunks than available threads. You can avoid it by setting the environment variable OMP_NUM_THREADS=1.\n",
      "  warnings.warn(\n"
     ]
    }
   ],
   "source": [
    "df['cluster'] = km.fit_predict(x)"
   ]
  },
  {
   "cell_type": "code",
   "execution_count": 17,
   "id": "43c87818",
   "metadata": {},
   "outputs": [
    {
     "data": {
      "text/html": [
       "<div>\n",
       "<style scoped>\n",
       "    .dataframe tbody tr th:only-of-type {\n",
       "        vertical-align: middle;\n",
       "    }\n",
       "\n",
       "    .dataframe tbody tr th {\n",
       "        vertical-align: top;\n",
       "    }\n",
       "\n",
       "    .dataframe thead th {\n",
       "        text-align: right;\n",
       "    }\n",
       "</style>\n",
       "<table border=\"1\" class=\"dataframe\">\n",
       "  <thead>\n",
       "    <tr style=\"text-align: right;\">\n",
       "      <th></th>\n",
       "      <th>CustomerID</th>\n",
       "      <th>Gender</th>\n",
       "      <th>Age</th>\n",
       "      <th>Annual Income (k$)</th>\n",
       "      <th>Spending Score (1-100)</th>\n",
       "      <th>cluster</th>\n",
       "    </tr>\n",
       "  </thead>\n",
       "  <tbody>\n",
       "    <tr>\n",
       "      <th>0</th>\n",
       "      <td>1</td>\n",
       "      <td>Male</td>\n",
       "      <td>19</td>\n",
       "      <td>15</td>\n",
       "      <td>39</td>\n",
       "      <td>4</td>\n",
       "    </tr>\n",
       "    <tr>\n",
       "      <th>1</th>\n",
       "      <td>2</td>\n",
       "      <td>Male</td>\n",
       "      <td>21</td>\n",
       "      <td>15</td>\n",
       "      <td>81</td>\n",
       "      <td>0</td>\n",
       "    </tr>\n",
       "    <tr>\n",
       "      <th>2</th>\n",
       "      <td>3</td>\n",
       "      <td>Female</td>\n",
       "      <td>20</td>\n",
       "      <td>16</td>\n",
       "      <td>6</td>\n",
       "      <td>4</td>\n",
       "    </tr>\n",
       "    <tr>\n",
       "      <th>3</th>\n",
       "      <td>4</td>\n",
       "      <td>Female</td>\n",
       "      <td>23</td>\n",
       "      <td>16</td>\n",
       "      <td>77</td>\n",
       "      <td>0</td>\n",
       "    </tr>\n",
       "    <tr>\n",
       "      <th>4</th>\n",
       "      <td>5</td>\n",
       "      <td>Female</td>\n",
       "      <td>31</td>\n",
       "      <td>17</td>\n",
       "      <td>40</td>\n",
       "      <td>4</td>\n",
       "    </tr>\n",
       "    <tr>\n",
       "      <th>...</th>\n",
       "      <td>...</td>\n",
       "      <td>...</td>\n",
       "      <td>...</td>\n",
       "      <td>...</td>\n",
       "      <td>...</td>\n",
       "      <td>...</td>\n",
       "    </tr>\n",
       "    <tr>\n",
       "      <th>195</th>\n",
       "      <td>196</td>\n",
       "      <td>Female</td>\n",
       "      <td>35</td>\n",
       "      <td>120</td>\n",
       "      <td>79</td>\n",
       "      <td>3</td>\n",
       "    </tr>\n",
       "    <tr>\n",
       "      <th>196</th>\n",
       "      <td>197</td>\n",
       "      <td>Female</td>\n",
       "      <td>45</td>\n",
       "      <td>126</td>\n",
       "      <td>28</td>\n",
       "      <td>2</td>\n",
       "    </tr>\n",
       "    <tr>\n",
       "      <th>197</th>\n",
       "      <td>198</td>\n",
       "      <td>Male</td>\n",
       "      <td>32</td>\n",
       "      <td>126</td>\n",
       "      <td>74</td>\n",
       "      <td>3</td>\n",
       "    </tr>\n",
       "    <tr>\n",
       "      <th>198</th>\n",
       "      <td>199</td>\n",
       "      <td>Male</td>\n",
       "      <td>32</td>\n",
       "      <td>137</td>\n",
       "      <td>18</td>\n",
       "      <td>2</td>\n",
       "    </tr>\n",
       "    <tr>\n",
       "      <th>199</th>\n",
       "      <td>200</td>\n",
       "      <td>Male</td>\n",
       "      <td>30</td>\n",
       "      <td>137</td>\n",
       "      <td>83</td>\n",
       "      <td>3</td>\n",
       "    </tr>\n",
       "  </tbody>\n",
       "</table>\n",
       "<p>200 rows × 6 columns</p>\n",
       "</div>"
      ],
      "text/plain": [
       "     CustomerID  Gender  Age  Annual Income (k$)  Spending Score (1-100)  \\\n",
       "0             1    Male   19                  15                      39   \n",
       "1             2    Male   21                  15                      81   \n",
       "2             3  Female   20                  16                       6   \n",
       "3             4  Female   23                  16                      77   \n",
       "4             5  Female   31                  17                      40   \n",
       "..          ...     ...  ...                 ...                     ...   \n",
       "195         196  Female   35                 120                      79   \n",
       "196         197  Female   45                 126                      28   \n",
       "197         198    Male   32                 126                      74   \n",
       "198         199    Male   32                 137                      18   \n",
       "199         200    Male   30                 137                      83   \n",
       "\n",
       "     cluster  \n",
       "0          4  \n",
       "1          0  \n",
       "2          4  \n",
       "3          0  \n",
       "4          4  \n",
       "..       ...  \n",
       "195        3  \n",
       "196        2  \n",
       "197        3  \n",
       "198        2  \n",
       "199        3  \n",
       "\n",
       "[200 rows x 6 columns]"
      ]
     },
     "execution_count": 17,
     "metadata": {},
     "output_type": "execute_result"
    }
   ],
   "source": [
    "df"
   ]
  },
  {
   "cell_type": "code",
   "execution_count": 18,
   "id": "407d4517",
   "metadata": {},
   "outputs": [
    {
     "data": {
      "text/html": [
       "<div>\n",
       "<style scoped>\n",
       "    .dataframe tbody tr th:only-of-type {\n",
       "        vertical-align: middle;\n",
       "    }\n",
       "\n",
       "    .dataframe tbody tr th {\n",
       "        vertical-align: top;\n",
       "    }\n",
       "\n",
       "    .dataframe thead th {\n",
       "        text-align: right;\n",
       "    }\n",
       "</style>\n",
       "<table border=\"1\" class=\"dataframe\">\n",
       "  <thead>\n",
       "    <tr style=\"text-align: right;\">\n",
       "      <th></th>\n",
       "      <th>Feature 1</th>\n",
       "      <th>Feature 2</th>\n",
       "    </tr>\n",
       "  </thead>\n",
       "  <tbody>\n",
       "    <tr>\n",
       "      <th>0</th>\n",
       "      <td>25.727273</td>\n",
       "      <td>79.363636</td>\n",
       "    </tr>\n",
       "    <tr>\n",
       "      <th>1</th>\n",
       "      <td>55.296296</td>\n",
       "      <td>49.518519</td>\n",
       "    </tr>\n",
       "    <tr>\n",
       "      <th>2</th>\n",
       "      <td>88.200000</td>\n",
       "      <td>17.114286</td>\n",
       "    </tr>\n",
       "    <tr>\n",
       "      <th>3</th>\n",
       "      <td>86.538462</td>\n",
       "      <td>82.128205</td>\n",
       "    </tr>\n",
       "    <tr>\n",
       "      <th>4</th>\n",
       "      <td>26.304348</td>\n",
       "      <td>20.913043</td>\n",
       "    </tr>\n",
       "  </tbody>\n",
       "</table>\n",
       "</div>"
      ],
      "text/plain": [
       "   Feature 1  Feature 2\n",
       "0  25.727273  79.363636\n",
       "1  55.296296  49.518519\n",
       "2  88.200000  17.114286\n",
       "3  86.538462  82.128205\n",
       "4  26.304348  20.913043"
      ]
     },
     "execution_count": 18,
     "metadata": {},
     "output_type": "execute_result"
    }
   ],
   "source": [
    "centers = km.cluster_centers_\n",
    "center_df = pd.DataFrame(data = centers, columns=['Feature 1', 'Feature 2'])\n",
    "center_df"
   ]
  },
  {
   "cell_type": "code",
   "execution_count": 19,
   "id": "215aa175",
   "metadata": {},
   "outputs": [
    {
     "data": {
      "text/plain": [
       "<Axes: xlabel='Annual Income (k$)', ylabel='Spending Score (1-100)'>"
      ]
     },
     "execution_count": 19,
     "metadata": {},
     "output_type": "execute_result"
    },
    {
     "data": {
      "image/png": "[encoded data removed]",
      "text/plain": [
       "<Figure size 640x480 with 1 Axes>"
      ]
     },
     "metadata": {},
     "output_type": "display_data"
    }
   ],
   "source": [
    "sns.scatterplot(data =df, x ='Annual Income (k$)',y ='Spending Score (1-100)', hue = 'cluster')\n",
    "sns.scatterplot(data= center_df, x='Feature 1',y='Feature 2', marker = '*', s= 200)"
   ]
  },
  {
   "cell_type": "code",
   "execution_count": 20,
   "id": "13cb0756",
   "metadata": {},
   "outputs": [
    {
     "name": "stdout",
     "output_type": "stream",
     "text": [
      "Silhouette Score for KMeans: 0.553931997444648\n"
     ]
    }
   ],
   "source": [
    "from sklearn.metrics import silhouette_score\n",
    "silhouette_kmeans = silhouette_score(df[['Annual Income (k$)','Spending Score (1-100)']], df['cluster'])\n",
    "print(f'Silhouette Score for KMeans: {silhouette_kmeans}')"
   ]
  },
  {
   "cell_type": "code",
   "execution_count": 21,
   "id": "85b89e72",
   "metadata": {},
   "outputs": [],
   "source": [
    "from sklearn.cluster import DBSCAN"
   ]
  },
  {
   "cell_type": "code",
   "execution_count": 22,
   "id": "30db6ff6",
   "metadata": {},
   "outputs": [
    {
     "data": {
      "text/html": [
       "<style>#sk-container-id-1 {color: black;background-color: white;}#sk-container-id-1 pre{padding: 0;}#sk-container-id-1 div.sk-toggleable {background-color: white;}#sk-container-id-1 label.sk-toggleable__label {cursor: pointer;display: block;width: 100%;margin-bottom: 0;padding: 0.3em;box-sizing: border-box;text-align: center;}#sk-container-id-1 label.sk-toggleable__label-arrow:before {content: \"▸\";float: left;margin-right: 0.25em;color: #696969;}#sk-container-id-1 label.sk-toggleable__label-arrow:hover:before {color: black;}#sk-container-id-1 div.sk-estimator:hover label.sk-toggleable__label-arrow:before {color: black;}#sk-container-id-1 div.sk-toggleable__content {max-height: 0;max-width: 0;overflow: hidden;text-align: left;background-color: #f0f8ff;}#sk-container-id-1 div.sk-toggleable__content pre {margin: 0.2em;color: black;border-radius: 0.25em;background-color: #f0f8ff;}#sk-container-id-1 input.sk-toggleable__control:checked~div.sk-toggleable__content {max-height: 200px;max-width: 100%;overflow: auto;}#sk-container-id-1 input.sk-toggleable__control:checked~label.sk-toggleable__label-arrow:before {content: \"▾\";}#sk-container-id-1 div.sk-estimator input.sk-toggleable__control:checked~label.sk-toggleable__label {background-color: #d4ebff;}#sk-container-id-1 div.sk-label input.sk-toggleable__control:checked~label.sk-toggleable__label {background-color: #d4ebff;}#sk-container-id-1 input.sk-hidden--visually {border: 0;clip: rect(1px 1px 1px 1px);clip: rect(1px, 1px, 1px, 1px);height: 1px;margin: -1px;overflow: hidden;padding: 0;position: absolute;width: 1px;}#sk-container-id-1 div.sk-estimator {font-family: monospace;background-color: #f0f8ff;border: 1px dotted black;border-radius: 0.25em;box-sizing: border-box;margin-bottom: 0.5em;}#sk-container-id-1 div.sk-estimator:hover {background-color: #d4ebff;}#sk-container-id-1 div.sk-parallel-item::after {content: \"\";width: 100%;border-bottom: 1px solid gray;flex-grow: 1;}#sk-container-id-1 div.sk-label:hover label.sk-toggleable__label {background-color: #d4ebff;}#sk-container-id-1 div.sk-serial::before {content: \"\";position: absolute;border-left: 1px solid gray;box-sizing: border-box;top: 0;bottom: 0;left: 50%;z-index: 0;}#sk-container-id-1 div.sk-serial {display: flex;flex-direction: column;align-items: center;background-color: white;padding-right: 0.2em;padding-left: 0.2em;position: relative;}#sk-container-id-1 div.sk-item {position: relative;z-index: 1;}#sk-container-id-1 div.sk-parallel {display: flex;align-items: stretch;justify-content: center;background-color: white;position: relative;}#sk-container-id-1 div.sk-item::before, #sk-container-id-1 div.sk-parallel-item::before {content: \"\";position: absolute;border-left: 1px solid gray;box-sizing: border-box;top: 0;bottom: 0;left: 50%;z-index: -1;}#sk-container-id-1 div.sk-parallel-item {display: flex;flex-direction: column;z-index: 1;position: relative;background-color: white;}#sk-container-id-1 div.sk-parallel-item:first-child::after {align-self: flex-end;width: 50%;}#sk-container-id-1 div.sk-parallel-item:last-child::after {align-self: flex-start;width: 50%;}#sk-container-id-1 div.sk-parallel-item:only-child::after {width: 0;}#sk-container-id-1 div.sk-dashed-wrapped {border: 1px dashed gray;margin: 0 0.4em 0.5em 0.4em;box-sizing: border-box;padding-bottom: 0.4em;background-color: white;}#sk-container-id-1 div.sk-label label {font-family: monospace;font-weight: bold;display: inline-block;line-height: 1.2em;}#sk-container-id-1 div.sk-label-container {text-align: center;}#sk-container-id-1 div.sk-container {/* jupyter's `normalize.less` sets `[hidden] { display: none; }` but bootstrap.min.css set `[hidden] { display: none !important; }` so we also need the `!important` here to be able to override the default hidden behavior on the sphinx rendered scikit-learn.org. See: https://github.com/scikit-learn/scikit-learn/issues/21755 */display: inline-block !important;position: relative;}#sk-container-id-1 div.sk-text-repr-fallback {display: none;}</style><div id=\"sk-container-id-1\" class=\"sk-top-container\"><div class=\"sk-text-repr-fallback\"><pre>DBSCAN(eps=3)</pre><b>In a Jupyter environment, please rerun this cell to show the HTML representation or trust the notebook. <br />On GitHub, the HTML representation is unable to render, please try loading this page with nbviewer.org.</b></div><div class=\"sk-container\" hidden><div class=\"sk-item\"><div class=\"sk-estimator sk-toggleable\"><input class=\"sk-toggleable__control sk-hidden--visually\" id=\"sk-estimator-id-1\" type=\"checkbox\" checked><label for=\"sk-estimator-id-1\" class=\"sk-toggleable__label sk-toggleable__label-arrow\">DBSCAN</label><div class=\"sk-toggleable__content\"><pre>DBSCAN(eps=3)</pre></div></div></div></div></div>"
      ],
      "text/plain": [
       "DBSCAN(eps=3)"
      ]
     },
     "execution_count": 22,
     "metadata": {},
     "output_type": "execute_result"
    }
   ],
   "source": [
    "dbscan = DBSCAN(eps =3,min_samples=5)\n",
    "\n",
    "dbscan.fit(x[['Annual Income (k$)','Spending Score (1-100)']])"
   ]
  },
  {
   "cell_type": "code",
   "execution_count": 23,
   "id": "12f339e3",
   "metadata": {},
   "outputs": [
    {
     "data": {
      "text/plain": [
       "array([-1, -1, -1, -1, -1, -1, -1, -1, -1, -1, -1, -1, -1, -1, -1, -1, -1,\n",
       "       -1, -1, -1, -1, -1, -1, -1, -1, -1, -1, -1, -1, -1, -1, -1, -1, -1,\n",
       "       -1, -1, -1, -1, -1, -1, -1, -1, -1, -1, -1, -1, -1, -1, -1, -1, -1,\n",
       "       -1, -1, -1, -1, -1,  0, -1,  0,  0, -1, -1,  0, -1,  0, -1,  0,  0,\n",
       "       -1,  0, -1, -1,  0, -1,  2,  1,  1,  1,  1,  2,  1,  1,  2,  2,  1,\n",
       "        2, -1,  1, -1,  3, -1,  3,  3,  3,  3,  3,  3,  3,  3,  3,  3,  3,\n",
       "       -1, -1, -1,  3,  3,  3,  3,  3,  3,  3,  3,  3,  3,  3,  3, -1, -1,\n",
       "       -1, -1, -1, -1, -1, -1, -1, -1, -1, -1,  4, -1,  4, -1,  4, -1, -1,\n",
       "       -1,  4, -1,  4, -1, -1, -1, -1, -1, -1, -1, -1, -1, -1, -1, -1, -1,\n",
       "       -1, -1, -1, -1, -1, -1, -1, -1, -1, -1, -1, -1, -1, -1, -1, -1, -1,\n",
       "       -1, -1, -1, -1, -1, -1, -1, -1, -1, -1, -1, -1, -1, -1, -1, -1, -1,\n",
       "       -1, -1, -1, -1, -1, -1, -1, -1, -1, -1, -1, -1, -1], dtype=int64)"
      ]
     },
     "execution_count": 23,
     "metadata": {},
     "output_type": "execute_result"
    }
   ],
   "source": [
    "dbscan.labels_"
   ]
  },
  {
   "cell_type": "code",
   "execution_count": 24,
   "id": "91bc5cb5",
   "metadata": {},
   "outputs": [
    {
     "data": {
      "text/html": [
       "<style>#sk-container-id-2 {color: black;background-color: white;}#sk-container-id-2 pre{padding: 0;}#sk-container-id-2 div.sk-toggleable {background-color: white;}#sk-container-id-2 label.sk-toggleable__label {cursor: pointer;display: block;width: 100%;margin-bottom: 0;padding: 0.3em;box-sizing: border-box;text-align: center;}#sk-container-id-2 label.sk-toggleable__label-arrow:before {content: \"▸\";float: left;margin-right: 0.25em;color: #696969;}#sk-container-id-2 label.sk-toggleable__label-arrow:hover:before {color: black;}#sk-container-id-2 div.sk-estimator:hover label.sk-toggleable__label-arrow:before {color: black;}#sk-container-id-2 div.sk-toggleable__content {max-height: 0;max-width: 0;overflow: hidden;text-align: left;background-color: #f0f8ff;}#sk-container-id-2 div.sk-toggleable__content pre {margin: 0.2em;color: black;border-radius: 0.25em;background-color: #f0f8ff;}#sk-container-id-2 input.sk-toggleable__control:checked~div.sk-toggleable__content {max-height: 200px;max-width: 100%;overflow: auto;}#sk-container-id-2 input.sk-toggleable__control:checked~label.sk-toggleable__label-arrow:before {content: \"▾\";}#sk-container-id-2 div.sk-estimator input.sk-toggleable__control:checked~label.sk-toggleable__label {background-color: #d4ebff;}#sk-container-id-2 div.sk-label input.sk-toggleable__control:checked~label.sk-toggleable__label {background-color: #d4ebff;}#sk-container-id-2 input.sk-hidden--visually {border: 0;clip: rect(1px 1px 1px 1px);clip: rect(1px, 1px, 1px, 1px);height: 1px;margin: -1px;overflow: hidden;padding: 0;position: absolute;width: 1px;}#sk-container-id-2 div.sk-estimator {font-family: monospace;background-color: #f0f8ff;border: 1px dotted black;border-radius: 0.25em;box-sizing: border-box;margin-bottom: 0.5em;}#sk-container-id-2 div.sk-estimator:hover {background-color: #d4ebff;}#sk-container-id-2 div.sk-parallel-item::after {content: \"\";width: 100%;border-bottom: 1px solid gray;flex-grow: 1;}#sk-container-id-2 div.sk-label:hover label.sk-toggleable__label {background-color: #d4ebff;}#sk-container-id-2 div.sk-serial::before {content: \"\";position: absolute;border-left: 1px solid gray;box-sizing: border-box;top: 0;bottom: 0;left: 50%;z-index: 0;}#sk-container-id-2 div.sk-serial {display: flex;flex-direction: column;align-items: center;background-color: white;padding-right: 0.2em;padding-left: 0.2em;position: relative;}#sk-container-id-2 div.sk-item {position: relative;z-index: 1;}#sk-container-id-2 div.sk-parallel {display: flex;align-items: stretch;justify-content: center;background-color: white;position: relative;}#sk-container-id-2 div.sk-item::before, #sk-container-id-2 div.sk-parallel-item::before {content: \"\";position: absolute;border-left: 1px solid gray;box-sizing: border-box;top: 0;bottom: 0;left: 50%;z-index: -1;}#sk-container-id-2 div.sk-parallel-item {display: flex;flex-direction: column;z-index: 1;position: relative;background-color: white;}#sk-container-id-2 div.sk-parallel-item:first-child::after {align-self: flex-end;width: 50%;}#sk-container-id-2 div.sk-parallel-item:last-child::after {align-self: flex-start;width: 50%;}#sk-container-id-2 div.sk-parallel-item:only-child::after {width: 0;}#sk-container-id-2 div.sk-dashed-wrapped {border: 1px dashed gray;margin: 0 0.4em 0.5em 0.4em;box-sizing: border-box;padding-bottom: 0.4em;background-color: white;}#sk-container-id-2 div.sk-label label {font-family: monospace;font-weight: bold;display: inline-block;line-height: 1.2em;}#sk-container-id-2 div.sk-label-container {text-align: center;}#sk-container-id-2 div.sk-container {/* jupyter's `normalize.less` sets `[hidden] { display: none; }` but bootstrap.min.css set `[hidden] { display: none !important; }` so we also need the `!important` here to be able to override the default hidden behavior on the sphinx rendered scikit-learn.org. See: https://github.com/scikit-learn/scikit-learn/issues/21755 */display: inline-block !important;position: relative;}#sk-container-id-2 div.sk-text-repr-fallback {display: none;}</style><div id=\"sk-container-id-2\" class=\"sk-top-container\"><div class=\"sk-text-repr-fallback\"><pre>DBSCAN(eps=8)</pre><b>In a Jupyter environment, please rerun this cell to show the HTML representation or trust the notebook. <br />On GitHub, the HTML representation is unable to render, please try loading this page with nbviewer.org.</b></div><div class=\"sk-container\" hidden><div class=\"sk-item\"><div class=\"sk-estimator sk-toggleable\"><input class=\"sk-toggleable__control sk-hidden--visually\" id=\"sk-estimator-id-2\" type=\"checkbox\" checked><label for=\"sk-estimator-id-2\" class=\"sk-toggleable__label sk-toggleable__label-arrow\">DBSCAN</label><div class=\"sk-toggleable__content\"><pre>DBSCAN(eps=8)</pre></div></div></div></div></div>"
      ],
      "text/plain": [
       "DBSCAN(eps=8)"
      ]
     },
     "execution_count": 24,
     "metadata": {},
     "output_type": "execute_result"
    }
   ],
   "source": [
    "dbscan = DBSCAN(eps =8,min_samples=5)\n",
    "dbscan.fit(x[['Annual Income (k$)','Spending Score (1-100)']])"
   ]
  },
  {
   "cell_type": "code",
   "execution_count": 25,
   "id": "0a40268d",
   "metadata": {},
   "outputs": [
    {
     "data": {
      "text/plain": [
       "array([ 2,  0,  1,  0,  2,  0,  1, -1,  1,  0, -1, -1, -1,  0,  1,  0,  2,\n",
       "        0,  2, -1,  2,  0,  1,  0, -1, -1,  2, -1,  2, -1, -1,  0, -1, -1,\n",
       "       -1, -1, -1,  0, -1,  0,  3, -1,  3,  3,  3,  3,  3,  3,  3,  3,  3,\n",
       "        3,  3,  3,  3,  3,  3,  3,  3,  3,  3,  3,  3,  3,  3,  3,  3,  3,\n",
       "        3,  3,  3,  3,  3,  3,  3,  3,  3,  3,  3,  3,  3,  3,  3,  3,  3,\n",
       "        3,  3,  3,  3,  3,  3,  3,  3,  3,  3,  3,  3,  3,  3,  3,  3,  3,\n",
       "        3,  3,  3,  3,  3,  3,  3,  3,  3,  3,  3,  3,  3,  3,  3,  3,  3,\n",
       "        3,  3,  3,  3,  4,  3,  4,  3,  4,  5,  4,  5,  4,  3,  4,  5,  4,\n",
       "        5,  4,  5,  4,  5,  4,  3,  4,  5,  4,  3,  4,  5,  4,  5,  4,  5,\n",
       "        4,  5,  4,  5,  4,  5,  4,  3,  4,  5,  4,  5,  4,  5,  4,  5, -1,\n",
       "        5,  4,  5,  4,  5,  4,  5,  4,  5,  4, -1,  4,  5,  4, -1, -1, -1,\n",
       "       -1, -1, -1, -1, -1, -1, -1, -1, -1, -1, -1, -1, -1], dtype=int64)"
      ]
     },
     "execution_count": 25,
     "metadata": {},
     "output_type": "execute_result"
    }
   ],
   "source": [
    "dbscan.labels_"
   ]
  },
  {
   "cell_type": "code",
   "execution_count": 26,
   "id": "aa413861",
   "metadata": {},
   "outputs": [
    {
     "data": {
      "text/html": [
       "<div>\n",
       "<style scoped>\n",
       "    .dataframe tbody tr th:only-of-type {\n",
       "        vertical-align: middle;\n",
       "    }\n",
       "\n",
       "    .dataframe tbody tr th {\n",
       "        vertical-align: top;\n",
       "    }\n",
       "\n",
       "    .dataframe thead th {\n",
       "        text-align: right;\n",
       "    }\n",
       "</style>\n",
       "<table border=\"1\" class=\"dataframe\">\n",
       "  <thead>\n",
       "    <tr style=\"text-align: right;\">\n",
       "      <th></th>\n",
       "      <th>Annual Income (k$)</th>\n",
       "      <th>Spending Score (1-100)</th>\n",
       "      <th>dbscan_cluster_name</th>\n",
       "    </tr>\n",
       "  </thead>\n",
       "  <tbody>\n",
       "    <tr>\n",
       "      <th>0</th>\n",
       "      <td>15</td>\n",
       "      <td>39</td>\n",
       "      <td>2</td>\n",
       "    </tr>\n",
       "    <tr>\n",
       "      <th>1</th>\n",
       "      <td>15</td>\n",
       "      <td>81</td>\n",
       "      <td>0</td>\n",
       "    </tr>\n",
       "    <tr>\n",
       "      <th>2</th>\n",
       "      <td>16</td>\n",
       "      <td>6</td>\n",
       "      <td>1</td>\n",
       "    </tr>\n",
       "    <tr>\n",
       "      <th>3</th>\n",
       "      <td>16</td>\n",
       "      <td>77</td>\n",
       "      <td>0</td>\n",
       "    </tr>\n",
       "    <tr>\n",
       "      <th>4</th>\n",
       "      <td>17</td>\n",
       "      <td>40</td>\n",
       "      <td>2</td>\n",
       "    </tr>\n",
       "    <tr>\n",
       "      <th>...</th>\n",
       "      <td>...</td>\n",
       "      <td>...</td>\n",
       "      <td>...</td>\n",
       "    </tr>\n",
       "    <tr>\n",
       "      <th>195</th>\n",
       "      <td>120</td>\n",
       "      <td>79</td>\n",
       "      <td>-1</td>\n",
       "    </tr>\n",
       "    <tr>\n",
       "      <th>196</th>\n",
       "      <td>126</td>\n",
       "      <td>28</td>\n",
       "      <td>-1</td>\n",
       "    </tr>\n",
       "    <tr>\n",
       "      <th>197</th>\n",
       "      <td>126</td>\n",
       "      <td>74</td>\n",
       "      <td>-1</td>\n",
       "    </tr>\n",
       "    <tr>\n",
       "      <th>198</th>\n",
       "      <td>137</td>\n",
       "      <td>18</td>\n",
       "      <td>-1</td>\n",
       "    </tr>\n",
       "    <tr>\n",
       "      <th>199</th>\n",
       "      <td>137</td>\n",
       "      <td>83</td>\n",
       "      <td>-1</td>\n",
       "    </tr>\n",
       "  </tbody>\n",
       "</table>\n",
       "<p>200 rows × 3 columns</p>\n",
       "</div>"
      ],
      "text/plain": [
       "     Annual Income (k$)  Spending Score (1-100)  dbscan_cluster_name\n",
       "0                    15                      39                    2\n",
       "1                    15                      81                    0\n",
       "2                    16                       6                    1\n",
       "3                    16                      77                    0\n",
       "4                    17                      40                    2\n",
       "..                  ...                     ...                  ...\n",
       "195                 120                      79                   -1\n",
       "196                 126                      28                   -1\n",
       "197                 126                      74                   -1\n",
       "198                 137                      18                   -1\n",
       "199                 137                      83                   -1\n",
       "\n",
       "[200 rows x 3 columns]"
      ]
     },
     "execution_count": 26,
     "metadata": {},
     "output_type": "execute_result"
    }
   ],
   "source": [
    "x1 = x[['Annual Income (k$)','Spending Score (1-100)']]\n",
    "x1['dbscan_cluster_name'] = dbscan.labels_   \n",
    "x1"
   ]
  },
  {
   "cell_type": "code",
   "execution_count": 27,
   "id": "59d6623f",
   "metadata": {},
   "outputs": [],
   "source": [
    "x2 = x[['Annual Income (k$)','Spending Score (1-100)']]\n",
    "x2['kmean_cluster_name'] = km.labels_"
   ]
  },
  {
   "cell_type": "code",
   "execution_count": 28,
   "id": "2fa8f2e8",
   "metadata": {},
   "outputs": [
    {
     "data": {
      "text/html": [
       "<div>\n",
       "<style scoped>\n",
       "    .dataframe tbody tr th:only-of-type {\n",
       "        vertical-align: middle;\n",
       "    }\n",
       "\n",
       "    .dataframe tbody tr th {\n",
       "        vertical-align: top;\n",
       "    }\n",
       "\n",
       "    .dataframe thead th {\n",
       "        text-align: right;\n",
       "    }\n",
       "</style>\n",
       "<table border=\"1\" class=\"dataframe\">\n",
       "  <thead>\n",
       "    <tr style=\"text-align: right;\">\n",
       "      <th></th>\n",
       "      <th>Annual Income (k$)</th>\n",
       "      <th>Spending Score (1-100)</th>\n",
       "      <th>kmean_cluster_name</th>\n",
       "    </tr>\n",
       "  </thead>\n",
       "  <tbody>\n",
       "    <tr>\n",
       "      <th>0</th>\n",
       "      <td>15</td>\n",
       "      <td>39</td>\n",
       "      <td>4</td>\n",
       "    </tr>\n",
       "    <tr>\n",
       "      <th>1</th>\n",
       "      <td>15</td>\n",
       "      <td>81</td>\n",
       "      <td>0</td>\n",
       "    </tr>\n",
       "    <tr>\n",
       "      <th>2</th>\n",
       "      <td>16</td>\n",
       "      <td>6</td>\n",
       "      <td>4</td>\n",
       "    </tr>\n",
       "    <tr>\n",
       "      <th>3</th>\n",
       "      <td>16</td>\n",
       "      <td>77</td>\n",
       "      <td>0</td>\n",
       "    </tr>\n",
       "    <tr>\n",
       "      <th>4</th>\n",
       "      <td>17</td>\n",
       "      <td>40</td>\n",
       "      <td>4</td>\n",
       "    </tr>\n",
       "    <tr>\n",
       "      <th>...</th>\n",
       "      <td>...</td>\n",
       "      <td>...</td>\n",
       "      <td>...</td>\n",
       "    </tr>\n",
       "    <tr>\n",
       "      <th>195</th>\n",
       "      <td>120</td>\n",
       "      <td>79</td>\n",
       "      <td>3</td>\n",
       "    </tr>\n",
       "    <tr>\n",
       "      <th>196</th>\n",
       "      <td>126</td>\n",
       "      <td>28</td>\n",
       "      <td>2</td>\n",
       "    </tr>\n",
       "    <tr>\n",
       "      <th>197</th>\n",
       "      <td>126</td>\n",
       "      <td>74</td>\n",
       "      <td>3</td>\n",
       "    </tr>\n",
       "    <tr>\n",
       "      <th>198</th>\n",
       "      <td>137</td>\n",
       "      <td>18</td>\n",
       "      <td>2</td>\n",
       "    </tr>\n",
       "    <tr>\n",
       "      <th>199</th>\n",
       "      <td>137</td>\n",
       "      <td>83</td>\n",
       "      <td>3</td>\n",
       "    </tr>\n",
       "  </tbody>\n",
       "</table>\n",
       "<p>200 rows × 3 columns</p>\n",
       "</div>"
      ],
      "text/plain": [
       "     Annual Income (k$)  Spending Score (1-100)  kmean_cluster_name\n",
       "0                    15                      39                   4\n",
       "1                    15                      81                   0\n",
       "2                    16                       6                   4\n",
       "3                    16                      77                   0\n",
       "4                    17                      40                   4\n",
       "..                  ...                     ...                 ...\n",
       "195                 120                      79                   3\n",
       "196                 126                      28                   2\n",
       "197                 126                      74                   3\n",
       "198                 137                      18                   2\n",
       "199                 137                      83                   3\n",
       "\n",
       "[200 rows x 3 columns]"
      ]
     },
     "execution_count": 28,
     "metadata": {},
     "output_type": "execute_result"
    }
   ],
   "source": [
    "x2"
   ]
  },
  {
   "cell_type": "code",
   "execution_count": 29,
   "id": "a74e971b",
   "metadata": {},
   "outputs": [],
   "source": [
    "true_label = x2['kmean_cluster_name']\n",
    "predicted_label = x1['dbscan_cluster_name'] \n"
   ]
  },
  {
   "cell_type": "code",
   "execution_count": 30,
   "id": "f4757cb6",
   "metadata": {},
   "outputs": [
    {
     "data": {
      "text/plain": [
       "0.7461778887626738"
      ]
     },
     "execution_count": 30,
     "metadata": {},
     "output_type": "execute_result"
    }
   ],
   "source": [
    "from sklearn import metrics\n",
    "metrics.adjusted_rand_score(true_label,predicted_label) "
   ]
  },
  {
   "cell_type": "code",
   "execution_count": 48,
   "id": "60342137",
   "metadata": {},
   "outputs": [],
   "source": [
    "from sklearn.datasets import make_blobs\n",
    "from sklearn.neighbors import NearestNeighbors"
   ]
  },
  {
   "cell_type": "code",
   "execution_count": 62,
   "id": "01cf1bbd",
   "metadata": {},
   "outputs": [],
   "source": [
    "x,y = make_blobs(n_samples=300, centers = 4, cluster_std = 0.60, random_state = 0)"
   ]
  },
  {
   "cell_type": "code",
   "execution_count": 63,
   "id": "22d7279e",
   "metadata": {},
   "outputs": [
    {
     "data": {
      "text/plain": [
       "array([[ 8.36856841e-01,  2.13635938e+00],\n",
       "       [-1.41365810e+00,  7.40962324e+00],\n",
       "       [ 1.15521298e+00,  5.09961887e+00],\n",
       "       [-1.01861632e+00,  7.81491465e+00],\n",
       "       [ 1.27135141e+00,  1.89254207e+00],\n",
       "       [ 3.43761754e+00,  2.61654166e-01],\n",
       "       [-1.80822253e+00,  1.59701749e+00],\n",
       "       [ 1.41372442e+00,  4.38117707e+00],\n",
       "       [-2.04932168e-01,  8.43209665e+00],\n",
       "       [-7.11099611e-01,  8.66043846e+00],\n",
       "       [-1.71237268e+00,  2.77780226e+00],\n",
       "       [-2.67000792e+00,  8.35389140e+00],\n",
       "       [ 1.24258802e+00,  4.50399192e+00],\n",
       "       [-2.22783649e+00,  6.89479938e+00],\n",
       "       [ 1.45513831e+00, -2.91989981e-02],\n",
       "       [ 4.53791789e-01,  3.95647753e+00],\n",
       "       [ 1.06923853e+00,  4.53068484e+00],\n",
       "       [ 2.56936589e+00,  5.07048304e-01],\n",
       "       [-1.06690610e+00,  3.13165795e+00],\n",
       "       [-1.07859101e+00,  2.20451529e+00],\n",
       "       [ 2.71506328e+00,  1.29082190e+00],\n",
       "       [ 1.77710994e+00,  1.18655254e+00],\n",
       "       [ 7.34363910e-01,  5.03725437e+00],\n",
       "       [-1.99648151e+00,  2.85164868e+00],\n",
       "       [-1.91828017e+00,  2.60516867e+00],\n",
       "       [-5.55523811e-01,  4.69595848e+00],\n",
       "       [ 1.69747910e+00,  8.66123282e-01],\n",
       "       [ 5.94762432e-01,  4.70964730e+00],\n",
       "       [-2.88024255e+00,  2.30437816e+00],\n",
       "       [ 1.86725632e-01,  4.02683656e+00],\n",
       "       [-5.13333436e-01,  7.87437368e+00],\n",
       "       [-2.05701103e+00,  7.37851598e+00],\n",
       "       [ 1.87271752e+00,  4.18069237e+00],\n",
       "       [-1.13121396e+00,  6.76652230e+00],\n",
       "       [-1.64428957e+00,  7.94095139e+00],\n",
       "       [-2.41933824e+00,  7.43952498e+00],\n",
       "       [-2.01606928e+00,  7.48420129e+00],\n",
       "       [-2.62142780e+00,  7.98635066e+00],\n",
       "       [-2.20299950e+00,  2.47947561e+00],\n",
       "       [ 1.66382237e+00,  6.63091635e-01],\n",
       "       [ 6.69786996e-01,  3.59540802e+00],\n",
       "       [-1.98539037e+00,  2.05520738e+00],\n",
       "       [-4.74920358e-02,  5.47425256e+00],\n",
       "       [ 1.54462126e+00,  4.21078127e+00],\n",
       "       [-1.70200643e+00,  2.46098693e+00],\n",
       "       [-1.02192525e+00,  2.76820711e+00],\n",
       "       [-1.37842552e+00,  8.10269597e+00],\n",
       "       [-1.55220688e+00,  2.74574995e+00],\n",
       "       [-1.47904303e+00,  7.56915836e+00],\n",
       "       [ 1.98894313e+00,  1.50976729e+00],\n",
       "       [-1.94972418e+00,  3.48383870e+00],\n",
       "       [ 2.45509737e+00,  6.21231788e-01],\n",
       "       [-8.94327882e-01,  7.61714473e+00],\n",
       "       [ 1.69687788e+00,  7.54910622e-01],\n",
       "       [ 1.75644805e+00,  2.05538289e+00],\n",
       "       [-1.11064012e+00,  2.82213820e+00],\n",
       "       [-4.15017659e-02,  7.80870276e+00],\n",
       "       [-1.14091533e+00,  1.97550822e+00],\n",
       "       [-1.80634968e+00,  7.72830656e+00],\n",
       "       [ 1.39263752e+00,  9.28962707e-01],\n",
       "       [-2.25698670e+00,  7.30207720e+00],\n",
       "       [ 5.71670482e-01,  4.32288566e+00],\n",
       "       [-1.54994580e+00,  9.28293222e+00],\n",
       "       [-1.03819212e+00,  2.95323761e+00],\n",
       "       [-2.10956676e+00,  3.10677258e+00],\n",
       "       [-1.18652985e+00,  2.78427720e+00],\n",
       "       [-2.45809975e+00,  7.51178724e+00],\n",
       "       [ 2.36960214e+00,  9.50716912e-01],\n",
       "       [-2.66676007e+00,  7.84766052e+00],\n",
       "       [-1.49720702e+00,  3.21418433e+00],\n",
       "       [ 1.32222457e+00,  4.17880807e+00],\n",
       "       [-4.87271301e-01,  3.32858293e+00],\n",
       "       [-1.03718771e+00,  8.06300134e+00],\n",
       "       [-1.60496819e+00,  2.97425420e+00],\n",
       "       [-1.50372568e+00,  1.92385320e+00],\n",
       "       [-7.85412206e-01,  8.45312331e+00],\n",
       "       [-1.75783190e+00,  2.97449321e+00],\n",
       "       [ 1.19008992e+00,  4.72773123e+00],\n",
       "       [ 2.14043942e+00,  7.06066610e-01],\n",
       "       [-1.03540116e+00,  8.20559195e+00],\n",
       "       [ 1.25471244e+00,  8.96331565e-02],\n",
       "       [ 5.95676822e-01,  4.08614263e+00],\n",
       "       [ 1.27955338e+00,  1.05789418e+00],\n",
       "       [ 1.72955064e+00,  1.14729369e+00],\n",
       "       [-9.49041610e-01,  8.46424331e+00],\n",
       "       [ 9.35325115e-01,  5.33179296e+00],\n",
       "       [ 2.36923352e+00,  7.94735861e-01],\n",
       "       [ 4.28576743e-01,  4.97399710e+00],\n",
       "       [-2.04758277e+00,  6.65428520e+00],\n",
       "       [-1.45672617e+00,  7.48669893e+00],\n",
       "       [ 5.29417185e-01,  3.80792420e+00],\n",
       "       [ 1.78194802e+00,  9.08151155e-01],\n",
       "       [-1.95575053e+00,  8.61631686e+00],\n",
       "       [-1.74572014e+00,  3.01190457e+00],\n",
       "       [-1.17979111e+00,  3.12767494e+00],\n",
       "       [ 1.16411070e+00,  3.79132988e+00],\n",
       "       [ 1.36155806e+00,  1.36638252e+00],\n",
       "       [ 2.60137487e+00,  1.08799459e+00],\n",
       "       [ 2.72396035e-01,  5.46996004e+00],\n",
       "       [-3.12240736e+00,  3.28167398e+00],\n",
       "       [-5.88085172e-01,  8.61427320e+00],\n",
       "       [ 1.66909648e+00, -4.36378231e-01],\n",
       "       [-6.82774903e-01,  7.67490317e+00],\n",
       "       [ 2.36790645e+00,  5.52190878e-01],\n",
       "       [ 1.05241733e+00,  4.54498095e+00],\n",
       "       [ 2.22707373e+00,  1.26296996e+00],\n",
       "       [ 2.43934644e+00, -7.25099666e-02],\n",
       "       [ 1.34471770e+00,  4.85711133e+00],\n",
       "       [-1.31454942e+00,  6.83904013e+00],\n",
       "       [ 9.82570091e-01,  5.37530962e+00],\n",
       "       [-1.06295223e+00,  2.20755388e+00],\n",
       "       [-1.60712495e+00,  3.56452854e+00],\n",
       "       [ 1.57322172e+00,  4.83933793e-01],\n",
       "       [-2.17851338e+00,  8.08585131e+00],\n",
       "       [ 1.83375842e+00,  7.54036153e-01],\n",
       "       [ 2.10616050e+00,  3.49513189e+00],\n",
       "       [-1.64338755e+00,  7.52691964e+00],\n",
       "       [ 1.10550448e+00,  1.26389129e+00],\n",
       "       [ 1.61152972e+00,  1.82347242e+00],\n",
       "       [ 4.59534668e-01,  5.44982630e+00],\n",
       "       [-5.38023054e-01,  3.01641891e+00],\n",
       "       [ 1.67841499e+00,  6.09047389e-01],\n",
       "       [-1.01214966e+00,  3.60254338e+00],\n",
       "       [ 1.34195197e+00,  5.93573847e-01],\n",
       "       [ 1.42811550e+00,  1.62435083e+00],\n",
       "       [ 2.04505527e+00,  1.12515470e+00],\n",
       "       [ 1.67280531e+00,  6.59300571e-01],\n",
       "       [-1.35863899e+00,  2.32200809e+00],\n",
       "       [ 1.13078931e+00,  9.35620856e-01],\n",
       "       [-1.73896306e+00,  1.94799775e+00],\n",
       "       [-3.40258925e-01,  8.16733925e+00],\n",
       "       [-1.63793622e+00,  2.43329317e+00],\n",
       "       [-1.68754414e+00,  2.24107546e+00],\n",
       "       [ 2.43040639e+00, -6.35709334e-02],\n",
       "       [-1.37998039e+00,  7.18503804e+00],\n",
       "       [-1.25245465e+00,  2.33911505e+00],\n",
       "       [-2.39482483e+00,  3.39806103e+00],\n",
       "       [-2.09183352e+00,  7.48142543e+00],\n",
       "       [ 4.88382309e-01,  3.26801777e+00],\n",
       "       [-5.39428614e-01,  7.45631776e+00],\n",
       "       [-2.59201821e+00,  8.07635945e+00],\n",
       "       [-1.04656513e+00,  2.96483837e+00],\n",
       "       [ 1.25566754e+00,  3.38204112e+00],\n",
       "       [-1.62150422e+00,  4.27191636e+00],\n",
       "       [ 1.86922139e+00,  5.44132083e+00],\n",
       "       [-1.76404140e+00,  2.22222995e+00],\n",
       "       [-1.38181918e+00,  7.28761248e+00],\n",
       "       [ 7.93137001e-03,  4.17614316e+00],\n",
       "       [-1.10298500e+00,  7.30222786e+00],\n",
       "       [-1.79351372e+00,  7.58086944e+00],\n",
       "       [-1.51176949e+00,  7.94426307e+00],\n",
       "       [ 9.59360742e-01,  4.56078645e+00],\n",
       "       [-6.01337393e-01,  6.29994922e+00],\n",
       "       [ 2.24592863e-01,  4.77028154e+00],\n",
       "       [ 1.56724897e+00,  1.78090633e-02],\n",
       "       [-1.03395259e+00,  2.92105785e+00],\n",
       "       [-9.22268640e-01,  8.09888579e+00],\n",
       "       [-1.88609638e+00,  2.24834407e+00],\n",
       "       [ 1.86873582e+00,  9.56103760e-01],\n",
       "       [ 1.10123507e+00,  4.88977075e+00],\n",
       "       [-1.93213725e+00,  8.30643453e+00],\n",
       "       [ 6.70478769e-01,  4.04094275e+00],\n",
       "       [ 7.43873988e-01,  4.12240568e+00],\n",
       "       [ 1.64003761e+00,  1.81948989e+00],\n",
       "       [ 8.15468056e-01,  4.78526116e+00],\n",
       "       [-2.63274574e+00,  2.63109786e+00],\n",
       "       [-9.61076361e-01,  1.27407596e+00],\n",
       "       [ 2.13979079e-01,  4.88542535e+00],\n",
       "       [ 1.43472182e+00,  1.30662037e+00],\n",
       "       [ 1.21387411e+00,  3.64795042e+00],\n",
       "       [ 1.08272576e+00,  4.06271877e+00],\n",
       "       [-1.22605234e+00,  8.29620146e+00],\n",
       "       [ 1.48170052e+00,  6.90074595e-01],\n",
       "       [ 1.89593761e+00,  5.18540259e+00],\n",
       "       [-1.32356154e+00,  4.13050840e+00],\n",
       "       [-1.14989863e+00,  7.89325283e+00],\n",
       "       [ 2.46915842e+00,  1.67877140e+00],\n",
       "       [ 2.31102276e+00,  1.30380848e+00],\n",
       "       [ 5.72793810e-01,  4.08805543e+00],\n",
       "       [-9.67794989e-01,  3.12186125e+00],\n",
       "       [ 2.62492001e+00,  9.50194405e-01],\n",
       "       [ 1.68353782e+00,  4.19583243e+00],\n",
       "       [-2.22131717e+00,  2.73050691e+00],\n",
       "       [-1.57846247e+00,  3.03445802e+00],\n",
       "       [ 8.15155229e-02,  4.56742235e+00],\n",
       "       [ 1.43289271e+00,  4.37679234e+00],\n",
       "       [ 1.06269622e+00,  5.17635143e+00],\n",
       "       [ 7.67522789e-01,  4.39759671e+00],\n",
       "       [ 2.47019077e+00,  1.31451315e+00],\n",
       "       [-1.73163168e+00,  7.16447286e+00],\n",
       "       [ 3.47138300e-01,  3.45177657e+00],\n",
       "       [-1.00140436e+00,  2.84881778e+00],\n",
       "       [ 1.01618041e+00,  4.48527047e+00],\n",
       "       [ 5.59529363e-01,  4.21400660e+00],\n",
       "       [-2.11821046e+00,  2.03478126e+00],\n",
       "       [-1.36219420e+00,  2.38333321e+00],\n",
       "       [-2.78366586e+00,  2.99211541e+00],\n",
       "       [ 1.65225163e+00,  3.65582842e+00],\n",
       "       [-1.93960658e+00,  2.18943582e+00],\n",
       "       [-1.81487687e+00,  7.97832190e+00],\n",
       "       [ 1.20212540e+00,  3.64414685e+00],\n",
       "       [-9.69200946e-01,  3.26721702e+00],\n",
       "       [ 1.86985974e+00, -1.07938624e-01],\n",
       "       [-1.80701134e+00,  2.06773859e+00],\n",
       "       [ 1.21767506e+00,  3.89290127e+00],\n",
       "       [-1.48368917e+00,  6.00777418e+00],\n",
       "       [-1.56387985e+00,  2.85349910e+00],\n",
       "       [-6.86210297e-01,  8.68285664e+00],\n",
       "       [ 1.07627418e+00,  4.68480619e+00],\n",
       "       [-9.75986627e-01,  6.73761577e+00],\n",
       "       [ 1.37964693e+00,  4.54826443e+00],\n",
       "       [-1.64129611e+00,  2.68097255e+00],\n",
       "       [-1.84892963e-03,  4.58145668e+00],\n",
       "       [ 1.71444449e+00,  5.02521524e+00],\n",
       "       [-1.40524304e+00,  7.72611315e+00],\n",
       "       [-7.08184904e-01,  2.50421275e+00],\n",
       "       [-8.85798374e-01,  2.64585078e+00],\n",
       "       [ 1.98436909e+00,  4.89556738e-01],\n",
       "       [ 2.95195825e+00, -3.44327355e-01],\n",
       "       [ 4.31891060e-01,  4.33495456e+00],\n",
       "       [-1.86621694e+00,  7.62549400e+00],\n",
       "       [ 2.52706430e+00,  6.17812202e-01],\n",
       "       [ 2.04067185e+00,  4.54845114e-01],\n",
       "       [-2.58043836e+00,  3.18844294e+00],\n",
       "       [ 1.61990909e+00,  6.76452867e-02],\n",
       "       [-2.58802708e+00,  3.13117134e+00],\n",
       "       [ 4.43598630e-01,  3.11530945e+00],\n",
       "       [-4.56773649e-01,  7.30600872e+00],\n",
       "       [-1.12867566e+00,  7.80509789e+00],\n",
       "       [ 2.13003529e+00,  5.19209620e+00],\n",
       "       [ 1.00372519e+00,  4.19147702e+00],\n",
       "       [-1.39346767e+00,  8.74641672e+00],\n",
       "       [ 7.28098690e-01,  3.85531444e+00],\n",
       "       [ 8.93499638e-01,  1.01093082e+00],\n",
       "       [-1.10782972e+00,  2.92014479e+00],\n",
       "       [ 7.89338559e-01,  4.33748653e+00],\n",
       "       [ 1.97553917e+00,  7.18989132e-01],\n",
       "       [-1.24902582e+00,  3.08533972e+00],\n",
       "       [-1.07768797e+00,  8.88106128e+00],\n",
       "       [-1.86849125e+00,  3.07982487e+00],\n",
       "       [ 2.76808540e+00,  1.08782923e+00],\n",
       "       [ 2.77180174e-01,  4.84428322e+00],\n",
       "       [ 3.41085289e+00,  8.72309369e-01],\n",
       "       [-1.58084155e+00,  7.55307742e+00],\n",
       "       [-1.53027550e+00,  7.70542113e+00],\n",
       "       [-1.82455840e+00,  7.35958960e+00],\n",
       "       [-1.68568257e+00,  7.95339446e+00],\n",
       "       [-1.65104622e+00,  3.44598961e+00],\n",
       "       [-1.30440901e+00,  3.00311934e+00],\n",
       "       [-7.30698168e-01,  6.24208856e+00],\n",
       "       [ 2.40615694e+00,  4.87047502e+00],\n",
       "       [-1.53631328e+00,  3.01443916e+00],\n",
       "       [ 1.48859977e+00,  6.51633844e-01],\n",
       "       [ 5.14320434e-01,  4.62733684e+00],\n",
       "       [-1.81469750e+00,  3.29009724e+00],\n",
       "       [-1.93731055e+00,  3.91361274e+00],\n",
       "       [-6.14907097e-01,  3.94963585e+00],\n",
       "       [ 2.03169783e+00,  1.96807561e-01],\n",
       "       [ 2.14917144e+00,  1.03697228e+00],\n",
       "       [-1.36999388e+00,  7.76953035e+00],\n",
       "       [ 9.14338767e-01,  4.55014643e+00],\n",
       "       [ 3.33818506e-01,  4.93645836e+00],\n",
       "       [-2.15968109e+00,  3.41003096e+00],\n",
       "       [ 1.36678633e+00,  6.34971633e-01],\n",
       "       [-5.71099336e-01,  8.13306058e+00],\n",
       "       [-1.00552592e+00,  3.08400540e+00],\n",
       "       [ 1.49493180e+00,  3.85848832e+00],\n",
       "       [-5.90447667e-01,  7.69493053e+00],\n",
       "       [ 7.15177948e-01,  5.41334556e+00],\n",
       "       [ 2.11390250e+00,  1.24743587e+00],\n",
       "       [ 1.20083098e+00,  6.01671730e-01],\n",
       "       [-2.54576750e+00,  3.15025055e+00],\n",
       "       [-1.95866665e+00,  2.43008647e+00],\n",
       "       [ 2.33812285e+00,  3.43116792e+00],\n",
       "       [ 3.35320909e+00,  1.69958043e+00],\n",
       "       [ 1.84287117e+00,  7.26928839e-02],\n",
       "       [ 1.32000621e+00,  1.40428145e+00],\n",
       "       [ 2.09680545e+00,  4.84741412e+00],\n",
       "       [-1.24307904e+00,  8.15166254e+00],\n",
       "       [-1.85908090e+00,  7.78874716e+00],\n",
       "       [ 2.74666646e+00,  1.54543482e+00],\n",
       "       [ 2.60778282e+00,  1.08890025e+00],\n",
       "       [ 1.65991049e+00,  3.56289184e+00],\n",
       "       [ 2.35151259e+00,  8.28001297e-01],\n",
       "       [ 2.22322228e+00,  8.38773426e-01],\n",
       "       [ 3.22881491e+00,  1.13171965e+00],\n",
       "       [-1.55876720e+00,  7.24816210e+00],\n",
       "       [-6.46956784e-01,  3.42941343e+00],\n",
       "       [-1.32688818e+00,  8.51530794e+00],\n",
       "       [ 9.17198564e-01,  3.90570036e+00],\n",
       "       [ 2.29469533e+00, -7.65891994e-01],\n",
       "       [ 1.81559810e+00,  1.11969719e+00],\n",
       "       [-1.12016775e+00,  7.11031582e+00],\n",
       "       [-1.65507124e+00,  8.61416749e+00],\n",
       "       [-1.27567815e+00,  7.96776461e+00],\n",
       "       [ 1.97369770e+00,  1.57979848e+00],\n",
       "       [ 2.51834185e+00,  1.39176615e+00],\n",
       "       [ 4.38990142e-01,  4.53592883e+00],\n",
       "       [ 3.69478657e-01,  7.79110522e+00],\n",
       "       [-1.79145759e+00,  2.74966896e+00]])"
      ]
     },
     "execution_count": 63,
     "metadata": {},
     "output_type": "execute_result"
    }
   ],
   "source": [
    "x"
   ]
  },
  {
   "cell_type": "code",
   "execution_count": 64,
   "id": "df5f6ef5",
   "metadata": {},
   "outputs": [
    {
     "data": {
      "text/plain": [
       "<matplotlib.collections.PathCollection at 0x1b8789a1b90>"
      ]
     },
     "execution_count": 64,
     "metadata": {},
     "output_type": "execute_result"
    },
    {
     "data": {
      "image/png": "[encoded data removed]",
      "text/plain": [
       "<Figure size 640x480 with 1 Axes>"
      ]
     },
     "metadata": {},
     "output_type": "display_data"
    }
   ],
   "source": [
    "plt.scatter(x[:,0],x[:,1])\n"
   ]
  },
  {
   "cell_type": "code",
   "execution_count": 67,
   "id": "3156828c",
   "metadata": {},
   "outputs": [],
   "source": [
    "neigh = NearestNeighbors(n_neighbors=2)\n",
    "nbrs = neigh.fit(x)"
   ]
  },
  {
   "cell_type": "code",
   "execution_count": 70,
   "id": "482e2021",
   "metadata": {},
   "outputs": [],
   "source": [
    "distance, indices = nbrs.kneighbors(x)"
   ]
  },
  {
   "cell_type": "code",
   "execution_count": 72,
   "id": "a34c7be2",
   "metadata": {},
   "outputs": [],
   "source": [
    "distance = np.sort(distance, axis = 0)"
   ]
  },
  {
   "cell_type": "code",
   "execution_count": 74,
   "id": "6ba82f82",
   "metadata": {},
   "outputs": [
    {
     "data": {
      "text/plain": [
       "[<matplotlib.lines.Line2D at 0x1b874bcbd50>]"
      ]
     },
     "execution_count": 74,
     "metadata": {},
     "output_type": "execute_result"
    },
    {
     "data": {
      "image/png": "[encoded data removed]",
      "text/plain": [
       "<Figure size 640x480 with 1 Axes>"
      ]
     },
     "metadata": {},
     "output_type": "display_data"
    }
   ],
   "source": [
    "plt.plot(distance[:,1])"
   ]
  },
  {
   "cell_type": "code",
   "execution_count": 148,
   "id": "0cc04ff3",
   "metadata": {},
   "outputs": [
    {
     "data": {
      "text/html": [
       "<style>#sk-container-id-27 {color: black;background-color: white;}#sk-container-id-27 pre{padding: 0;}#sk-container-id-27 div.sk-toggleable {background-color: white;}#sk-container-id-27 label.sk-toggleable__label {cursor: pointer;display: block;width: 100%;margin-bottom: 0;padding: 0.3em;box-sizing: border-box;text-align: center;}#sk-container-id-27 label.sk-toggleable__label-arrow:before {content: \"▸\";float: left;margin-right: 0.25em;color: #696969;}#sk-container-id-27 label.sk-toggleable__label-arrow:hover:before {color: black;}#sk-container-id-27 div.sk-estimator:hover label.sk-toggleable__label-arrow:before {color: black;}#sk-container-id-27 div.sk-toggleable__content {max-height: 0;max-width: 0;overflow: hidden;text-align: left;background-color: #f0f8ff;}#sk-container-id-27 div.sk-toggleable__content pre {margin: 0.2em;color: black;border-radius: 0.25em;background-color: #f0f8ff;}#sk-container-id-27 input.sk-toggleable__control:checked~div.sk-toggleable__content {max-height: 200px;max-width: 100%;overflow: auto;}#sk-container-id-27 input.sk-toggleable__control:checked~label.sk-toggleable__label-arrow:before {content: \"▾\";}#sk-container-id-27 div.sk-estimator input.sk-toggleable__control:checked~label.sk-toggleable__label {background-color: #d4ebff;}#sk-container-id-27 div.sk-label input.sk-toggleable__control:checked~label.sk-toggleable__label {background-color: #d4ebff;}#sk-container-id-27 input.sk-hidden--visually {border: 0;clip: rect(1px 1px 1px 1px);clip: rect(1px, 1px, 1px, 1px);height: 1px;margin: -1px;overflow: hidden;padding: 0;position: absolute;width: 1px;}#sk-container-id-27 div.sk-estimator {font-family: monospace;background-color: #f0f8ff;border: 1px dotted black;border-radius: 0.25em;box-sizing: border-box;margin-bottom: 0.5em;}#sk-container-id-27 div.sk-estimator:hover {background-color: #d4ebff;}#sk-container-id-27 div.sk-parallel-item::after {content: \"\";width: 100%;border-bottom: 1px solid gray;flex-grow: 1;}#sk-container-id-27 div.sk-label:hover label.sk-toggleable__label {background-color: #d4ebff;}#sk-container-id-27 div.sk-serial::before {content: \"\";position: absolute;border-left: 1px solid gray;box-sizing: border-box;top: 0;bottom: 0;left: 50%;z-index: 0;}#sk-container-id-27 div.sk-serial {display: flex;flex-direction: column;align-items: center;background-color: white;padding-right: 0.2em;padding-left: 0.2em;position: relative;}#sk-container-id-27 div.sk-item {position: relative;z-index: 1;}#sk-container-id-27 div.sk-parallel {display: flex;align-items: stretch;justify-content: center;background-color: white;position: relative;}#sk-container-id-27 div.sk-item::before, #sk-container-id-27 div.sk-parallel-item::before {content: \"\";position: absolute;border-left: 1px solid gray;box-sizing: border-box;top: 0;bottom: 0;left: 50%;z-index: -1;}#sk-container-id-27 div.sk-parallel-item {display: flex;flex-direction: column;z-index: 1;position: relative;background-color: white;}#sk-container-id-27 div.sk-parallel-item:first-child::after {align-self: flex-end;width: 50%;}#sk-container-id-27 div.sk-parallel-item:last-child::after {align-self: flex-start;width: 50%;}#sk-container-id-27 div.sk-parallel-item:only-child::after {width: 0;}#sk-container-id-27 div.sk-dashed-wrapped {border: 1px dashed gray;margin: 0 0.4em 0.5em 0.4em;box-sizing: border-box;padding-bottom: 0.4em;background-color: white;}#sk-container-id-27 div.sk-label label {font-family: monospace;font-weight: bold;display: inline-block;line-height: 1.2em;}#sk-container-id-27 div.sk-label-container {text-align: center;}#sk-container-id-27 div.sk-container {/* jupyter's `normalize.less` sets `[hidden] { display: none; }` but bootstrap.min.css set `[hidden] { display: none !important; }` so we also need the `!important` here to be able to override the default hidden behavior on the sphinx rendered scikit-learn.org. See: https://github.com/scikit-learn/scikit-learn/issues/21755 */display: inline-block !important;position: relative;}#sk-container-id-27 div.sk-text-repr-fallback {display: none;}</style><div id=\"sk-container-id-27\" class=\"sk-top-container\"><div class=\"sk-text-repr-fallback\"><pre>DBSCAN(eps=0.6, min_samples=4)</pre><b>In a Jupyter environment, please rerun this cell to show the HTML representation or trust the notebook. <br />On GitHub, the HTML representation is unable to render, please try loading this page with nbviewer.org.</b></div><div class=\"sk-container\" hidden><div class=\"sk-item\"><div class=\"sk-estimator sk-toggleable\"><input class=\"sk-toggleable__control sk-hidden--visually\" id=\"sk-estimator-id-27\" type=\"checkbox\" checked><label for=\"sk-estimator-id-27\" class=\"sk-toggleable__label sk-toggleable__label-arrow\">DBSCAN</label><div class=\"sk-toggleable__content\"><pre>DBSCAN(eps=0.6, min_samples=4)</pre></div></div></div></div></div>"
      ],
      "text/plain": [
       "DBSCAN(eps=0.6, min_samples=4)"
      ]
     },
     "execution_count": 148,
     "metadata": {},
     "output_type": "execute_result"
    }
   ],
   "source": [
    "cluster = DBSCAN(eps= 0.6,min_samples = 4)\n",
    "cluster.fit(x)"
   ]
  },
  {
   "cell_type": "code",
   "execution_count": 149,
   "id": "81171ab4",
   "metadata": {},
   "outputs": [
    {
     "data": {
      "text/plain": [
       "5"
      ]
     },
     "execution_count": 149,
     "metadata": {},
     "output_type": "execute_result"
    }
   ],
   "source": [
    "clusters = cluster.labels_\n",
    "len(set(clusters))"
   ]
  },
  {
   "cell_type": "code",
   "execution_count": 150,
   "id": "b0a4e047",
   "metadata": {},
   "outputs": [
    {
     "data": {
      "text/plain": [
       "0.6605541095579138"
      ]
     },
     "execution_count": 150,
     "metadata": {},
     "output_type": "execute_result"
    }
   ],
   "source": [
    "from sklearn.metrics import silhouette_score\n",
    "silhouette_score(x,clusters)"
   ]
  },
  {
   "cell_type": "code",
   "execution_count": 151,
   "id": "6eacff2d",
   "metadata": {},
   "outputs": [
    {
     "data": {
      "text/plain": [
       "array([ 2,  0,  1,  0,  2, -1,  3,  1,  0,  0,  3,  0,  1,  0,  2,  1,  1,\n",
       "        2,  3,  3,  2,  2,  1,  3,  3,  1,  2,  1,  3,  1,  0,  0,  1,  0,\n",
       "        0,  0,  0,  0,  3,  2,  1,  3,  1,  1,  3,  3,  0,  3,  0,  2,  3,\n",
       "        2,  0,  2,  2,  3,  0,  3,  0,  2,  0,  1,  0,  3,  3,  3,  0,  2,\n",
       "        0,  3,  1,  3,  0,  3,  3,  0,  3,  1,  2,  0,  2,  1,  2,  2,  0,\n",
       "        1,  2,  1,  0,  0,  1,  2,  0,  3,  3,  1,  2,  2,  1,  3,  0,  2,\n",
       "        0,  2,  1,  2,  2,  1,  0,  1,  3,  3,  2,  0,  2,  1,  0,  2,  2,\n",
       "        1,  3,  2,  3,  2,  2,  2,  2,  3,  2,  3,  0,  3,  3,  2,  0,  3,\n",
       "        3,  0,  1,  0,  0,  3,  1,  3,  1,  3,  0,  1,  0,  0,  0,  1,  0,\n",
       "        1,  2,  3,  0,  3,  2,  1,  0,  1,  1,  2,  1,  3, -1,  1,  2,  1,\n",
       "        1,  0,  2,  1, -1,  0,  2,  2,  1,  3,  2,  1,  3,  3,  1,  1,  1,\n",
       "        1,  2,  0,  1,  3,  1,  1,  3,  3,  3,  1,  3,  0,  1,  3,  2,  3,\n",
       "        1, -1,  3,  0,  1,  0,  1,  3,  1,  1,  0,  3,  3,  2,  2,  1,  0,\n",
       "        2,  2,  3,  2,  3,  1,  0,  0,  1,  1,  0,  1,  2,  3,  1,  2,  3,\n",
       "        0,  3,  2,  1,  2,  0,  0,  0,  0,  3,  3,  0,  1,  3,  2,  1,  3,\n",
       "        3,  3,  2,  2,  0,  1,  1,  3,  2,  0,  3,  1,  0,  1,  2,  2,  3,\n",
       "        3,  1,  2,  2,  2,  1,  0,  0,  2,  2,  1,  2,  2,  2,  0,  3,  0,\n",
       "        1, -1,  2,  0,  0,  0,  2,  2,  1,  0,  3], dtype=int64)"
      ]
     },
     "execution_count": 151,
     "metadata": {},
     "output_type": "execute_result"
    }
   ],
   "source": [
    " cluster.labels_\n",
    "    "
   ]
  },
  {
   "cell_type": "code",
   "execution_count": 153,
   "id": "e2a9d99b",
   "metadata": {},
   "outputs": [
    {
     "name": "stdout",
     "output_type": "stream",
     "text": [
      "[False  True False  True False  True  True False False  True False False\n",
      " False  True False  True  True False  True False  True  True False  True\n",
      " False False  True False False False False  True False False False False\n",
      " False False False False  True False  True  True False False  True  True\n",
      "  True  True  True  True  True  True  True  True  True  True  True  True\n",
      "  True  True  True  True  True  True  True  True  True  True  True  True\n",
      "  True  True  True  True  True  True  True  True  True  True  True  True\n",
      "  True  True  True  True  True  True  True  True  True  True  True  True\n",
      "  True  True  True  True  True  True  True  True  True  True  True  True\n",
      "  True  True  True  True  True  True  True  True  True  True  True  True\n",
      "  True  True  True False False  True  True  True  True  True  True  True\n",
      "  True  True  True  True  True  True  True  True  True  True  True  True\n",
      "  True  True  True  True False  True  True  True  True  True  True  True\n",
      "  True  True  True  True  True  True  True  True False  True  True False\n",
      " False False  True False  True  True  True False  True False  True  True\n",
      " False False False False False False False False False False False False\n",
      " False False False False False False False False False False False False\n",
      " False False False False False False False False False False False False\n",
      " False False False False False False False False False False False False\n",
      " False False False False False False False False False False False False\n",
      " False False False False False False False False False False False False\n",
      " False False False False False False False False False False False False\n",
      " False False False False False False False False False False False False\n",
      " False False False False False False False False False False False False\n",
      " False False False False False False False False False False False False]\n"
     ]
    }
   ],
   "source": [
    "import numpy as np\n",
    "from sklearn import metrics\n",
    "# identify core samples\n",
    "core_samples = np.zeros_like(clusters, dtype=bool)\n",
    "core_samples[dbscan.core_sample_indices_] = True\n",
    "print(core_samples)"
   ]
  },
  {
   "cell_type": "code",
   "execution_count": 154,
   "id": "1ba7e5ee",
   "metadata": {},
   "outputs": [
    {
     "data": {
      "text/plain": [
       "array([  1,   3,   5,   6,   9,  13,  15,  16,  18,  20,  21,  23,  26,\n",
       "        31,  40,  42,  43,  46,  47,  48,  49,  50,  51,  52,  53,  54,\n",
       "        55,  56,  57,  58,  59,  60,  61,  62,  63,  64,  65,  66,  67,\n",
       "        68,  69,  70,  71,  72,  73,  74,  75,  76,  77,  78,  79,  80,\n",
       "        81,  82,  83,  84,  85,  86,  87,  88,  89,  90,  91,  92,  93,\n",
       "        94,  95,  96,  97,  98,  99, 100, 101, 102, 103, 104, 105, 106,\n",
       "       107, 108, 109, 110, 111, 112, 113, 114, 115, 116, 117, 118, 119,\n",
       "       120, 121, 122, 125, 126, 127, 128, 129, 130, 131, 132, 133, 134,\n",
       "       135, 136, 137, 138, 139, 140, 141, 142, 143, 144, 145, 146, 147,\n",
       "       149, 150, 151, 152, 153, 154, 155, 156, 157, 158, 159, 160, 161,\n",
       "       162, 163, 165, 166, 170, 172, 173, 174, 176, 178, 179], dtype=int64)"
      ]
     },
     "execution_count": 154,
     "metadata": {},
     "output_type": "execute_result"
    }
   ],
   "source": [
    "dbscan.core_sample_indices_"
   ]
  },
  {
   "cell_type": "code",
   "execution_count": null,
   "id": "144a0847",
   "metadata": {},
   "outputs": [],
   "source": [
    "    "
   ]
  }
 ],
 "metadata": {
  "kernelspec": {
   "display_name": "Python 3 (ipykernel)",
   "language": "python",
   "name": "python3"
  },
  "language_info": {
   "codemirror_mode": {
    "name": "ipython",
    "version": 3
   },
   "file_extension": ".py",
   "mimetype": "text/x-python",
   "name": "python",
   "nbconvert_exporter": "python",
   "pygments_lexer": "ipython3",
   "version": "3.11.7"
  }
 },
 "nbformat": 4,
 "nbformat_minor": 5
}
