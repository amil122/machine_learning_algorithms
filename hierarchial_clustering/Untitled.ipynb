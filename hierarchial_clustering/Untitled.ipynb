{
 "cells": [
  {
   "cell_type": "code",
   "execution_count": 127,
   "id": "7f521b8e",
   "metadata": {},
   "outputs": [],
   "source": [
    "import pandas as pd\n",
    "import numpy as np\n",
    "import matplotlib.pyplot as plt\n",
    "%matplotlib inline\n",
    "import seaborn as sns"
   ]
  },
  {
   "cell_type": "code",
   "execution_count": 4,
   "id": "6e7f0d22",
   "metadata": {},
   "outputs": [],
   "source": [
    "df = pd.read_csv('data_set/Mall_Customers.csv')"
   ]
  },
  {
   "cell_type": "code",
   "execution_count": 5,
   "id": "489d9c1a",
   "metadata": {},
   "outputs": [
    {
     "data": {
      "text/html": [
       "<div>\n",
       "<style scoped>\n",
       "    .dataframe tbody tr th:only-of-type {\n",
       "        vertical-align: middle;\n",
       "    }\n",
       "\n",
       "    .dataframe tbody tr th {\n",
       "        vertical-align: top;\n",
       "    }\n",
       "\n",
       "    .dataframe thead th {\n",
       "        text-align: right;\n",
       "    }\n",
       "</style>\n",
       "<table border=\"1\" class=\"dataframe\">\n",
       "  <thead>\n",
       "    <tr style=\"text-align: right;\">\n",
       "      <th></th>\n",
       "      <th>CustomerID</th>\n",
       "      <th>Gender</th>\n",
       "      <th>Age</th>\n",
       "      <th>Annual Income (k$)</th>\n",
       "      <th>Spending Score (1-100)</th>\n",
       "    </tr>\n",
       "  </thead>\n",
       "  <tbody>\n",
       "    <tr>\n",
       "      <th>0</th>\n",
       "      <td>1</td>\n",
       "      <td>Male</td>\n",
       "      <td>19</td>\n",
       "      <td>15</td>\n",
       "      <td>39</td>\n",
       "    </tr>\n",
       "    <tr>\n",
       "      <th>1</th>\n",
       "      <td>2</td>\n",
       "      <td>Male</td>\n",
       "      <td>21</td>\n",
       "      <td>15</td>\n",
       "      <td>81</td>\n",
       "    </tr>\n",
       "    <tr>\n",
       "      <th>2</th>\n",
       "      <td>3</td>\n",
       "      <td>Female</td>\n",
       "      <td>20</td>\n",
       "      <td>16</td>\n",
       "      <td>6</td>\n",
       "    </tr>\n",
       "    <tr>\n",
       "      <th>3</th>\n",
       "      <td>4</td>\n",
       "      <td>Female</td>\n",
       "      <td>23</td>\n",
       "      <td>16</td>\n",
       "      <td>77</td>\n",
       "    </tr>\n",
       "    <tr>\n",
       "      <th>4</th>\n",
       "      <td>5</td>\n",
       "      <td>Female</td>\n",
       "      <td>31</td>\n",
       "      <td>17</td>\n",
       "      <td>40</td>\n",
       "    </tr>\n",
       "    <tr>\n",
       "      <th>...</th>\n",
       "      <td>...</td>\n",
       "      <td>...</td>\n",
       "      <td>...</td>\n",
       "      <td>...</td>\n",
       "      <td>...</td>\n",
       "    </tr>\n",
       "    <tr>\n",
       "      <th>195</th>\n",
       "      <td>196</td>\n",
       "      <td>Female</td>\n",
       "      <td>35</td>\n",
       "      <td>120</td>\n",
       "      <td>79</td>\n",
       "    </tr>\n",
       "    <tr>\n",
       "      <th>196</th>\n",
       "      <td>197</td>\n",
       "      <td>Female</td>\n",
       "      <td>45</td>\n",
       "      <td>126</td>\n",
       "      <td>28</td>\n",
       "    </tr>\n",
       "    <tr>\n",
       "      <th>197</th>\n",
       "      <td>198</td>\n",
       "      <td>Male</td>\n",
       "      <td>32</td>\n",
       "      <td>126</td>\n",
       "      <td>74</td>\n",
       "    </tr>\n",
       "    <tr>\n",
       "      <th>198</th>\n",
       "      <td>199</td>\n",
       "      <td>Male</td>\n",
       "      <td>32</td>\n",
       "      <td>137</td>\n",
       "      <td>18</td>\n",
       "    </tr>\n",
       "    <tr>\n",
       "      <th>199</th>\n",
       "      <td>200</td>\n",
       "      <td>Male</td>\n",
       "      <td>30</td>\n",
       "      <td>137</td>\n",
       "      <td>83</td>\n",
       "    </tr>\n",
       "  </tbody>\n",
       "</table>\n",
       "<p>200 rows × 5 columns</p>\n",
       "</div>"
      ],
      "text/plain": [
       "     CustomerID  Gender  Age  Annual Income (k$)  Spending Score (1-100)\n",
       "0             1    Male   19                  15                      39\n",
       "1             2    Male   21                  15                      81\n",
       "2             3  Female   20                  16                       6\n",
       "3             4  Female   23                  16                      77\n",
       "4             5  Female   31                  17                      40\n",
       "..          ...     ...  ...                 ...                     ...\n",
       "195         196  Female   35                 120                      79\n",
       "196         197  Female   45                 126                      28\n",
       "197         198    Male   32                 126                      74\n",
       "198         199    Male   32                 137                      18\n",
       "199         200    Male   30                 137                      83\n",
       "\n",
       "[200 rows x 5 columns]"
      ]
     },
     "execution_count": 5,
     "metadata": {},
     "output_type": "execute_result"
    }
   ],
   "source": [
    "df"
   ]
  },
  {
   "cell_type": "code",
   "execution_count": 7,
   "id": "e4837fb4",
   "metadata": {},
   "outputs": [
    {
     "data": {
      "text/html": [
       "<div>\n",
       "<style scoped>\n",
       "    .dataframe tbody tr th:only-of-type {\n",
       "        vertical-align: middle;\n",
       "    }\n",
       "\n",
       "    .dataframe tbody tr th {\n",
       "        vertical-align: top;\n",
       "    }\n",
       "\n",
       "    .dataframe thead th {\n",
       "        text-align: right;\n",
       "    }\n",
       "</style>\n",
       "<table border=\"1\" class=\"dataframe\">\n",
       "  <thead>\n",
       "    <tr style=\"text-align: right;\">\n",
       "      <th></th>\n",
       "      <th>Age</th>\n",
       "      <th>Annual Income (k$)</th>\n",
       "    </tr>\n",
       "  </thead>\n",
       "  <tbody>\n",
       "    <tr>\n",
       "      <th>0</th>\n",
       "      <td>19</td>\n",
       "      <td>15</td>\n",
       "    </tr>\n",
       "    <tr>\n",
       "      <th>1</th>\n",
       "      <td>21</td>\n",
       "      <td>15</td>\n",
       "    </tr>\n",
       "    <tr>\n",
       "      <th>2</th>\n",
       "      <td>20</td>\n",
       "      <td>16</td>\n",
       "    </tr>\n",
       "    <tr>\n",
       "      <th>3</th>\n",
       "      <td>23</td>\n",
       "      <td>16</td>\n",
       "    </tr>\n",
       "    <tr>\n",
       "      <th>4</th>\n",
       "      <td>31</td>\n",
       "      <td>17</td>\n",
       "    </tr>\n",
       "    <tr>\n",
       "      <th>...</th>\n",
       "      <td>...</td>\n",
       "      <td>...</td>\n",
       "    </tr>\n",
       "    <tr>\n",
       "      <th>195</th>\n",
       "      <td>35</td>\n",
       "      <td>120</td>\n",
       "    </tr>\n",
       "    <tr>\n",
       "      <th>196</th>\n",
       "      <td>45</td>\n",
       "      <td>126</td>\n",
       "    </tr>\n",
       "    <tr>\n",
       "      <th>197</th>\n",
       "      <td>32</td>\n",
       "      <td>126</td>\n",
       "    </tr>\n",
       "    <tr>\n",
       "      <th>198</th>\n",
       "      <td>32</td>\n",
       "      <td>137</td>\n",
       "    </tr>\n",
       "    <tr>\n",
       "      <th>199</th>\n",
       "      <td>30</td>\n",
       "      <td>137</td>\n",
       "    </tr>\n",
       "  </tbody>\n",
       "</table>\n",
       "<p>200 rows × 2 columns</p>\n",
       "</div>"
      ],
      "text/plain": [
       "     Age  Annual Income (k$)\n",
       "0     19                  15\n",
       "1     21                  15\n",
       "2     20                  16\n",
       "3     23                  16\n",
       "4     31                  17\n",
       "..   ...                 ...\n",
       "195   35                 120\n",
       "196   45                 126\n",
       "197   32                 126\n",
       "198   32                 137\n",
       "199   30                 137\n",
       "\n",
       "[200 rows x 2 columns]"
      ]
     },
     "execution_count": 7,
     "metadata": {},
     "output_type": "execute_result"
    }
   ],
   "source": [
    "subset = df.loc[:,['Age','Annual Income (k$)']]\n",
    "subset"
   ]
  },
  {
   "cell_type": "code",
   "execution_count": 18,
   "id": "30431fe3",
   "metadata": {},
   "outputs": [
    {
     "data": {
      "text/plain": [
       "<matplotlib.collections.PathCollection at 0x17243148750>"
      ]
     },
     "execution_count": 18,
     "metadata": {},
     "output_type": "execute_result"
    },
    {
     "data": {
      "image/png": "[encoded data removed]",
      "text/plain": [
       "<Figure size 640x480 with 1 Axes>"
      ]
     },
     "metadata": {},
     "output_type": "display_data"
    }
   ],
   "source": [
    "plt.scatter(subset['Age'],subset['Annual Income (k$)'], s= 60)"
   ]
  },
  {
   "cell_type": "code",
   "execution_count": 101,
   "id": "8ac2148f",
   "metadata": {},
   "outputs": [],
   "source": [
    "from sklearn.preprocessing import normalize"
   ]
  },
  {
   "cell_type": "code",
   "execution_count": 103,
   "id": "0cbe9eef",
   "metadata": {},
   "outputs": [],
   "source": [
    "\n",
    "scaled_df = normalize(subset)\n",
    "scaled_df = pd.DataFrame(data = scaled_df, columns = subset.columns)"
   ]
  },
  {
   "cell_type": "code",
   "execution_count": 104,
   "id": "56e2e475",
   "metadata": {},
   "outputs": [
    {
     "data": {
      "text/html": [
       "<div>\n",
       "<style scoped>\n",
       "    .dataframe tbody tr th:only-of-type {\n",
       "        vertical-align: middle;\n",
       "    }\n",
       "\n",
       "    .dataframe tbody tr th {\n",
       "        vertical-align: top;\n",
       "    }\n",
       "\n",
       "    .dataframe thead th {\n",
       "        text-align: right;\n",
       "    }\n",
       "</style>\n",
       "<table border=\"1\" class=\"dataframe\">\n",
       "  <thead>\n",
       "    <tr style=\"text-align: right;\">\n",
       "      <th></th>\n",
       "      <th>Age</th>\n",
       "      <th>Annual Income (k$)</th>\n",
       "    </tr>\n",
       "  </thead>\n",
       "  <tbody>\n",
       "    <tr>\n",
       "      <th>0</th>\n",
       "      <td>0.784883</td>\n",
       "      <td>0.619644</td>\n",
       "    </tr>\n",
       "    <tr>\n",
       "      <th>1</th>\n",
       "      <td>0.813733</td>\n",
       "      <td>0.581238</td>\n",
       "    </tr>\n",
       "    <tr>\n",
       "      <th>2</th>\n",
       "      <td>0.780869</td>\n",
       "      <td>0.624695</td>\n",
       "    </tr>\n",
       "    <tr>\n",
       "      <th>3</th>\n",
       "      <td>0.820905</td>\n",
       "      <td>0.571064</td>\n",
       "    </tr>\n",
       "    <tr>\n",
       "      <th>4</th>\n",
       "      <td>0.876812</td>\n",
       "      <td>0.480833</td>\n",
       "    </tr>\n",
       "    <tr>\n",
       "      <th>...</th>\n",
       "      <td>...</td>\n",
       "      <td>...</td>\n",
       "    </tr>\n",
       "    <tr>\n",
       "      <th>195</th>\n",
       "      <td>0.280000</td>\n",
       "      <td>0.960000</td>\n",
       "    </tr>\n",
       "    <tr>\n",
       "      <th>196</th>\n",
       "      <td>0.336336</td>\n",
       "      <td>0.941742</td>\n",
       "    </tr>\n",
       "    <tr>\n",
       "      <th>197</th>\n",
       "      <td>0.246154</td>\n",
       "      <td>0.969231</td>\n",
       "    </tr>\n",
       "    <tr>\n",
       "      <th>198</th>\n",
       "      <td>0.227454</td>\n",
       "      <td>0.973789</td>\n",
       "    </tr>\n",
       "    <tr>\n",
       "      <th>199</th>\n",
       "      <td>0.213910</td>\n",
       "      <td>0.976853</td>\n",
       "    </tr>\n",
       "  </tbody>\n",
       "</table>\n",
       "<p>200 rows × 2 columns</p>\n",
       "</div>"
      ],
      "text/plain": [
       "          Age  Annual Income (k$)\n",
       "0    0.784883            0.619644\n",
       "1    0.813733            0.581238\n",
       "2    0.780869            0.624695\n",
       "3    0.820905            0.571064\n",
       "4    0.876812            0.480833\n",
       "..        ...                 ...\n",
       "195  0.280000            0.960000\n",
       "196  0.336336            0.941742\n",
       "197  0.246154            0.969231\n",
       "198  0.227454            0.973789\n",
       "199  0.213910            0.976853\n",
       "\n",
       "[200 rows x 2 columns]"
      ]
     },
     "execution_count": 104,
     "metadata": {},
     "output_type": "execute_result"
    }
   ],
   "source": [
    "scaled_df"
   ]
  },
  {
   "cell_type": "code",
   "execution_count": 105,
   "id": "6d6652bc",
   "metadata": {},
   "outputs": [
    {
     "data": {
      "image/png": "[encoded data removed]",
      "text/plain": [
       "<Figure size 1000x700 with 1 Axes>"
      ]
     },
     "metadata": {},
     "output_type": "display_data"
    }
   ],
   "source": [
    "import scipy.cluster.hierarchy as sch\n",
    "plt.figure(figsize=(10,7))\n",
    "dendrogram = sch.dendrogram(sch.linkage(scaled_df, method ='ward'))"
   ]
  },
  {
   "cell_type": "code",
   "execution_count": 106,
   "id": "2b5b4b29",
   "metadata": {},
   "outputs": [
    {
     "data": {
      "text/plain": [
       "array([0, 0, 0, 0, 0, 0, 0, 0, 0, 0, 0, 0, 0, 0, 0, 0, 0, 0, 0, 0, 0, 0,\n",
       "       0, 0, 0, 0, 0, 0, 0, 1, 0, 1, 0, 1, 0, 1, 0, 1, 0, 1, 0, 1, 0, 1,\n",
       "       0, 1, 0, 1, 1, 1, 0, 1, 1, 0, 0, 0, 0, 0, 1, 0, 0, 2, 0, 0, 0, 2,\n",
       "       1, 0, 2, 1, 0, 0, 0, 0, 0, 2, 1, 1, 2, 1, 0, 1, 0, 1, 2, 1, 0, 2,\n",
       "       1, 1, 0, 2, 1, 1, 1, 2, 1, 2, 1, 2, 2, 1, 0, 2, 1, 2, 0, 1, 0, 0,\n",
       "       0, 2, 1, 2, 2, 2, 0, 1, 1, 1, 2, 1, 1, 1, 2, 2, 1, 1, 1, 1, 1, 1,\n",
       "       2, 2, 2, 2, 1, 2, 2, 2, 1, 2, 2, 2, 2, 2, 1, 2, 2, 2, 1, 2, 1, 2,\n",
       "       1, 2, 2, 2, 2, 2, 1, 2, 2, 2, 1, 2, 2, 2, 2, 2, 2, 2, 2, 2, 1, 2,\n",
       "       1, 2, 1, 2, 2, 2, 2, 2, 2, 2, 1, 2, 2, 2, 2, 2, 2, 2, 2, 2, 2, 2,\n",
       "       2, 2], dtype=int64)"
      ]
     },
     "execution_count": 106,
     "metadata": {},
     "output_type": "execute_result"
    }
   ],
   "source": [
    "from sklearn.cluster import AgglomerativeClustering\n",
    "cluster = AgglomerativeClustering(n_clusters=3,metric='euclidean', linkage = 'ward')\n",
    "cluster.fit_predict(scaled_df)"
   ]
  },
  {
   "cell_type": "code",
   "execution_count": 107,
   "id": "2950d126",
   "metadata": {},
   "outputs": [],
   "source": [
    "predicted_val = cluster.fit_predict(scaled_df)"
   ]
  },
  {
   "cell_type": "code",
   "execution_count": 108,
   "id": "e63c6d33",
   "metadata": {},
   "outputs": [
    {
     "data": {
      "text/plain": [
       "0.6184099257331396"
      ]
     },
     "execution_count": 108,
     "metadata": {},
     "output_type": "execute_result"
    }
   ],
   "source": [
    "from sklearn.metrics import silhouette_score\n",
    "silhouette_score(scaled_df,predicted_val)"
   ]
  },
  {
   "cell_type": "code",
   "execution_count": 109,
   "id": "a1e67446",
   "metadata": {},
   "outputs": [],
   "source": [
    "from sklearn.neighbors import NearestNeighbors\n",
    "neigh = NearestNeighbors(n_neighbors= 2)\n",
    "nbrs = neigh.fit(scaled_df)\n",
    "distance, indices = nbrs.kneighbors(scaled_df)"
   ]
  },
  {
   "cell_type": "code",
   "execution_count": 110,
   "id": "f5df23b4",
   "metadata": {},
   "outputs": [
    {
     "data": {
      "text/plain": [
       "[<matplotlib.lines.Line2D at 0x172519e8a90>]"
      ]
     },
     "execution_count": 110,
     "metadata": {},
     "output_type": "execute_result"
    },
    {
     "data": {
      "image/png": "[encoded data removed]",
      "text/plain": [
       "<Figure size 640x480 with 1 Axes>"
      ]
     },
     "metadata": {},
     "output_type": "display_data"
    }
   ],
   "source": [
    "distance = np.sort(distance,axis = 0)\n",
    "plt.plot(distance[:,1])"
   ]
  },
  {
   "cell_type": "code",
   "execution_count": 51,
   "id": "2eb14f8e",
   "metadata": {},
   "outputs": [
    {
     "data": {
      "text/plain": [
       "array([[0.        , 0.        ],\n",
       "       [0.        , 0.        ],\n",
       "       [0.        , 0.        ],\n",
       "       [0.        , 0.        ],\n",
       "       [0.        , 0.        ],\n",
       "       [0.        , 0.        ],\n",
       "       [0.        , 0.        ],\n",
       "       [0.        , 0.        ],\n",
       "       [0.        , 0.        ],\n",
       "       [0.        , 0.        ],\n",
       "       [0.        , 0.        ],\n",
       "       [0.        , 0.        ],\n",
       "       [0.        , 0.        ],\n",
       "       [0.        , 0.        ],\n",
       "       [0.        , 0.00819672],\n",
       "       [0.        , 0.00819672],\n",
       "       [0.        , 0.00819672],\n",
       "       [0.        , 0.00819672],\n",
       "       [0.        , 0.00819672],\n",
       "       [0.        , 0.00819672],\n",
       "       [0.        , 0.00819672],\n",
       "       [0.        , 0.00819672],\n",
       "       [0.        , 0.00819672],\n",
       "       [0.        , 0.00819672],\n",
       "       [0.        , 0.00819672],\n",
       "       [0.        , 0.00819672],\n",
       "       [0.        , 0.00819672],\n",
       "       [0.        , 0.00819672],\n",
       "       [0.        , 0.00819672],\n",
       "       [0.        , 0.00819672],\n",
       "       [0.        , 0.00819672],\n",
       "       [0.        , 0.00819672],\n",
       "       [0.        , 0.01639344],\n",
       "       [0.        , 0.01639344],\n",
       "       [0.        , 0.01639344],\n",
       "       [0.        , 0.01639344],\n",
       "       [0.        , 0.01639344],\n",
       "       [0.        , 0.01639344],\n",
       "       [0.        , 0.01639344],\n",
       "       [0.        , 0.01639344],\n",
       "       [0.        , 0.01639344],\n",
       "       [0.        , 0.01639344],\n",
       "       [0.        , 0.01639344],\n",
       "       [0.        , 0.01639344],\n",
       "       [0.        , 0.01639344],\n",
       "       [0.        , 0.01923077],\n",
       "       [0.        , 0.01923077],\n",
       "       [0.        , 0.01923077],\n",
       "       [0.        , 0.01923077],\n",
       "       [0.        , 0.01923077],\n",
       "       [0.        , 0.01923077],\n",
       "       [0.        , 0.01923077],\n",
       "       [0.        , 0.01923077],\n",
       "       [0.        , 0.01923077],\n",
       "       [0.        , 0.01923077],\n",
       "       [0.        , 0.01923077],\n",
       "       [0.        , 0.01923077],\n",
       "       [0.        , 0.01923077],\n",
       "       [0.        , 0.01923077],\n",
       "       [0.        , 0.01923077],\n",
       "       [0.        , 0.01923077],\n",
       "       [0.        , 0.01923077],\n",
       "       [0.        , 0.01923077],\n",
       "       [0.        , 0.02090475],\n",
       "       [0.        , 0.02090475],\n",
       "       [0.        , 0.02090475],\n",
       "       [0.        , 0.02090475],\n",
       "       [0.        , 0.02090475],\n",
       "       [0.        , 0.02090475],\n",
       "       [0.        , 0.02090475],\n",
       "       [0.        , 0.02090475],\n",
       "       [0.        , 0.02090475],\n",
       "       [0.        , 0.02090475],\n",
       "       [0.        , 0.02090475],\n",
       "       [0.        , 0.02090475],\n",
       "       [0.        , 0.02090475],\n",
       "       [0.        , 0.02090475],\n",
       "       [0.        , 0.02090475],\n",
       "       [0.        , 0.02090475],\n",
       "       [0.        , 0.02090475],\n",
       "       [0.        , 0.02090475],\n",
       "       [0.        , 0.02090475],\n",
       "       [0.        , 0.02090475],\n",
       "       [0.        , 0.02090475],\n",
       "       [0.        , 0.02090475],\n",
       "       [0.        , 0.02090475],\n",
       "       [0.        , 0.02090475],\n",
       "       [0.        , 0.02090475],\n",
       "       [0.        , 0.02090475],\n",
       "       [0.        , 0.02090475],\n",
       "       [0.        , 0.02090475],\n",
       "       [0.        , 0.02459016],\n",
       "       [0.        , 0.02459016],\n",
       "       [0.        , 0.02459016],\n",
       "       [0.        , 0.02459016],\n",
       "       [0.        , 0.02459016],\n",
       "       [0.        , 0.02459016],\n",
       "       [0.        , 0.02459016],\n",
       "       [0.        , 0.02459016],\n",
       "       [0.        , 0.02459016],\n",
       "       [0.        , 0.02526989],\n",
       "       [0.        , 0.02526989],\n",
       "       [0.        , 0.02526989],\n",
       "       [0.        , 0.02526989],\n",
       "       [0.        , 0.02526989],\n",
       "       [0.        , 0.02526989],\n",
       "       [0.        , 0.02526989],\n",
       "       [0.        , 0.02526989],\n",
       "       [0.        , 0.02526989],\n",
       "       [0.        , 0.02526989],\n",
       "       [0.        , 0.03121696],\n",
       "       [0.        , 0.03121696],\n",
       "       [0.        , 0.03121696],\n",
       "       [0.        , 0.03121696],\n",
       "       [0.        , 0.03121696],\n",
       "       [0.        , 0.03121696],\n",
       "       [0.        , 0.03121696],\n",
       "       [0.        , 0.03121696],\n",
       "       [0.        , 0.03121696],\n",
       "       [0.        , 0.03278689],\n",
       "       [0.        , 0.03278689],\n",
       "       [0.        , 0.03278689],\n",
       "       [0.        , 0.03801056],\n",
       "       [0.        , 0.03801056],\n",
       "       [0.        , 0.03801056],\n",
       "       [0.        , 0.03801056],\n",
       "       [0.        , 0.03801056],\n",
       "       [0.        , 0.03801056],\n",
       "       [0.        , 0.03801056],\n",
       "       [0.        , 0.03801056],\n",
       "       [0.        , 0.03801056],\n",
       "       [0.        , 0.03846154],\n",
       "       [0.        , 0.03846154],\n",
       "       [0.        , 0.03846154],\n",
       "       [0.        , 0.03846154],\n",
       "       [0.        , 0.03846154],\n",
       "       [0.        , 0.03846154],\n",
       "       [0.        , 0.03846154],\n",
       "       [0.        , 0.03846154],\n",
       "       [0.        , 0.03846154],\n",
       "       [0.        , 0.03846154],\n",
       "       [0.        , 0.03932526],\n",
       "       [0.        , 0.03932526],\n",
       "       [0.        , 0.03932526],\n",
       "       [0.        , 0.03932526],\n",
       "       [0.        , 0.03932526],\n",
       "       [0.        , 0.03932526],\n",
       "       [0.        , 0.03932526],\n",
       "       [0.        , 0.03932526],\n",
       "       [0.        , 0.04098361],\n",
       "       [0.        , 0.04180951],\n",
       "       [0.        , 0.04180951],\n",
       "       [0.        , 0.04180951],\n",
       "       [0.        , 0.04180951],\n",
       "       [0.        , 0.04180951],\n",
       "       [0.        , 0.04527117],\n",
       "       [0.        , 0.04527117],\n",
       "       [0.        , 0.04527117],\n",
       "       [0.        , 0.04527117],\n",
       "       [0.        , 0.04527117],\n",
       "       [0.        , 0.04527117],\n",
       "       [0.        , 0.04527117],\n",
       "       [0.        , 0.04527117],\n",
       "       [0.        , 0.04527117],\n",
       "       [0.        , 0.04565048],\n",
       "       [0.        , 0.04565048],\n",
       "       [0.        , 0.04565048],\n",
       "       [0.        , 0.04565048],\n",
       "       [0.        , 0.04565048],\n",
       "       [0.        , 0.04918033],\n",
       "       [0.        , 0.04918033],\n",
       "       [0.        , 0.04918033],\n",
       "       [0.        , 0.05053978],\n",
       "       [0.        , 0.05053978],\n",
       "       [0.        , 0.05053978],\n",
       "       [0.        , 0.05053978],\n",
       "       [0.        , 0.05280651],\n",
       "       [0.        , 0.05280651],\n",
       "       [0.        , 0.05280651],\n",
       "       [0.        , 0.0562045 ],\n",
       "       [0.        , 0.0562045 ],\n",
       "       [0.        , 0.0562045 ],\n",
       "       [0.        , 0.05737705],\n",
       "       [0.        , 0.05769231],\n",
       "       [0.        , 0.05769231],\n",
       "       [0.        , 0.05997622],\n",
       "       [0.        , 0.06051403],\n",
       "       [0.        , 0.06243392],\n",
       "       [0.        , 0.06243392],\n",
       "       [0.        , 0.06243392],\n",
       "       [0.        , 0.06907543],\n",
       "       [0.        , 0.06907543],\n",
       "       [0.        , 0.07076764],\n",
       "       [0.        , 0.07580968],\n",
       "       [0.        , 0.08136663],\n",
       "       [0.        , 0.0831948 ],\n",
       "       [0.        , 0.09054233],\n",
       "       [0.        , 0.09054233],\n",
       "       [0.        , 0.09650258],\n",
       "       [0.        , 0.11328621]])"
      ]
     },
     "execution_count": 51,
     "metadata": {},
     "output_type": "execute_result"
    }
   ],
   "source": [
    "distance"
   ]
  },
  {
   "cell_type": "code",
   "execution_count": 111,
   "id": "88a72650",
   "metadata": {},
   "outputs": [
    {
     "data": {
      "text/plain": [
       "array([ 0,  1,  0,  1,  2,  0, -1,  0, -1,  3, -1,  2, -1,  4,  2,  5, -1,\n",
       "        6, -1, -1,  1,  7,  2,  0, -1,  7,  3,  0,  1,  8, -1,  9,  3, 10,\n",
       "        1, 10,  0, 11,  6, 10, -1, 10,  0,  8,  0, 10,  0, 12,  9,  8, 13,\n",
       "        8,  9,  1, 13,  5, 13,  3, 10, 13, -1, 14,  1, 13,  0, 14, 11,  1,\n",
       "       14, 12,  1,  6,  4,  4,  5, 14, -1,  8, 14, 11,  7,  9,  0, 15, 14,\n",
       "       11,  6, 14, 10, 15, 13, 16,  8, 12, 10, 14,  8, 14,  8, 14, 14,  8,\n",
       "        5, 14,  8, 14,  7, 15,  5,  7,  7, 16, 10, 16, 17, 16,  6,  8,  8,\n",
       "        8, 14, 10, 10, 10, 14, 14, 10, 10, -1, 10, 12, 10, 14, 14, 17, 14,\n",
       "       10, 14, -1, 14,  8, 14, 14, 14, 14, 14, 10, 14, 14, 14, 10, 14, 10,\n",
       "       14, 10, 14, 14, 14, 14, 14,  9, 14, -1, 14, 10, 14, 14, 14, 14, 14,\n",
       "       14, 14, 14, 14, 10, 14, 12, 16, 10, 14, 14, 14, 14, 16, 14, 16, 10,\n",
       "       17, 14, 14, 14, 16, 16, 14, 14, 16, 14, -1, -1, -1], dtype=int64)"
      ]
     },
     "execution_count": 111,
     "metadata": {},
     "output_type": "execute_result"
    }
   ],
   "source": [
    "from sklearn.cluster import DBSCAN\n",
    "cluster = DBSCAN(eps=0.01, min_samples=3)\n",
    "cluster.fit(scaled_df)\n",
    "labels = cluster.labels_\n",
    "labels\n"
   ]
  },
  {
   "cell_type": "code",
   "execution_count": 112,
   "id": "229b4c9a",
   "metadata": {},
   "outputs": [
    {
     "data": {
      "text/plain": [
       "19"
      ]
     },
     "execution_count": 112,
     "metadata": {},
     "output_type": "execute_result"
    }
   ],
   "source": [
    "len(set(labels))"
   ]
  },
  {
   "cell_type": "code",
   "execution_count": 114,
   "id": "1be7ef54",
   "metadata": {},
   "outputs": [
    {
     "data": {
      "text/plain": [
       "0.40660314319400676"
      ]
     },
     "execution_count": 114,
     "metadata": {},
     "output_type": "execute_result"
    }
   ],
   "source": [
    "silhouette_score(scaled_df,labels)"
   ]
  },
  {
   "cell_type": "code",
   "execution_count": 115,
   "id": "fd0c3dce",
   "metadata": {},
   "outputs": [
    {
     "name": "stderr",
     "output_type": "stream",
     "text": [
      "C:\\Users\\amil\\anaconda3\\Lib\\site-packages\\sklearn\\cluster\\_kmeans.py:870: FutureWarning: The default value of `n_init` will change from 10 to 'auto' in 1.4. Set the value of `n_init` explicitly to suppress the warning\n",
      "  warnings.warn(\n",
      "C:\\Users\\amil\\anaconda3\\Lib\\site-packages\\sklearn\\cluster\\_kmeans.py:1382: UserWarning: KMeans is known to have a memory leak on Windows with MKL, when there are less chunks than available threads. You can avoid it by setting the environment variable OMP_NUM_THREADS=1.\n",
      "  warnings.warn(\n",
      "C:\\Users\\amil\\anaconda3\\Lib\\site-packages\\sklearn\\cluster\\_kmeans.py:870: FutureWarning: The default value of `n_init` will change from 10 to 'auto' in 1.4. Set the value of `n_init` explicitly to suppress the warning\n",
      "  warnings.warn(\n",
      "C:\\Users\\amil\\anaconda3\\Lib\\site-packages\\sklearn\\cluster\\_kmeans.py:1382: UserWarning: KMeans is known to have a memory leak on Windows with MKL, when there are less chunks than available threads. You can avoid it by setting the environment variable OMP_NUM_THREADS=1.\n",
      "  warnings.warn(\n",
      "C:\\Users\\amil\\anaconda3\\Lib\\site-packages\\sklearn\\cluster\\_kmeans.py:870: FutureWarning: The default value of `n_init` will change from 10 to 'auto' in 1.4. Set the value of `n_init` explicitly to suppress the warning\n",
      "  warnings.warn(\n",
      "C:\\Users\\amil\\anaconda3\\Lib\\site-packages\\sklearn\\cluster\\_kmeans.py:1382: UserWarning: KMeans is known to have a memory leak on Windows with MKL, when there are less chunks than available threads. You can avoid it by setting the environment variable OMP_NUM_THREADS=1.\n",
      "  warnings.warn(\n",
      "C:\\Users\\amil\\anaconda3\\Lib\\site-packages\\sklearn\\cluster\\_kmeans.py:870: FutureWarning: The default value of `n_init` will change from 10 to 'auto' in 1.4. Set the value of `n_init` explicitly to suppress the warning\n",
      "  warnings.warn(\n",
      "C:\\Users\\amil\\anaconda3\\Lib\\site-packages\\sklearn\\cluster\\_kmeans.py:1382: UserWarning: KMeans is known to have a memory leak on Windows with MKL, when there are less chunks than available threads. You can avoid it by setting the environment variable OMP_NUM_THREADS=1.\n",
      "  warnings.warn(\n",
      "C:\\Users\\amil\\anaconda3\\Lib\\site-packages\\sklearn\\cluster\\_kmeans.py:870: FutureWarning: The default value of `n_init` will change from 10 to 'auto' in 1.4. Set the value of `n_init` explicitly to suppress the warning\n",
      "  warnings.warn(\n",
      "C:\\Users\\amil\\anaconda3\\Lib\\site-packages\\sklearn\\cluster\\_kmeans.py:1382: UserWarning: KMeans is known to have a memory leak on Windows with MKL, when there are less chunks than available threads. You can avoid it by setting the environment variable OMP_NUM_THREADS=1.\n",
      "  warnings.warn(\n",
      "C:\\Users\\amil\\anaconda3\\Lib\\site-packages\\sklearn\\cluster\\_kmeans.py:870: FutureWarning: The default value of `n_init` will change from 10 to 'auto' in 1.4. Set the value of `n_init` explicitly to suppress the warning\n",
      "  warnings.warn(\n",
      "C:\\Users\\amil\\anaconda3\\Lib\\site-packages\\sklearn\\cluster\\_kmeans.py:1382: UserWarning: KMeans is known to have a memory leak on Windows with MKL, when there are less chunks than available threads. You can avoid it by setting the environment variable OMP_NUM_THREADS=1.\n",
      "  warnings.warn(\n",
      "C:\\Users\\amil\\anaconda3\\Lib\\site-packages\\sklearn\\cluster\\_kmeans.py:870: FutureWarning: The default value of `n_init` will change from 10 to 'auto' in 1.4. Set the value of `n_init` explicitly to suppress the warning\n",
      "  warnings.warn(\n",
      "C:\\Users\\amil\\anaconda3\\Lib\\site-packages\\sklearn\\cluster\\_kmeans.py:1382: UserWarning: KMeans is known to have a memory leak on Windows with MKL, when there are less chunks than available threads. You can avoid it by setting the environment variable OMP_NUM_THREADS=1.\n",
      "  warnings.warn(\n",
      "C:\\Users\\amil\\anaconda3\\Lib\\site-packages\\sklearn\\cluster\\_kmeans.py:870: FutureWarning: The default value of `n_init` will change from 10 to 'auto' in 1.4. Set the value of `n_init` explicitly to suppress the warning\n",
      "  warnings.warn(\n",
      "C:\\Users\\amil\\anaconda3\\Lib\\site-packages\\sklearn\\cluster\\_kmeans.py:1382: UserWarning: KMeans is known to have a memory leak on Windows with MKL, when there are less chunks than available threads. You can avoid it by setting the environment variable OMP_NUM_THREADS=1.\n",
      "  warnings.warn(\n",
      "C:\\Users\\amil\\anaconda3\\Lib\\site-packages\\sklearn\\cluster\\_kmeans.py:870: FutureWarning: The default value of `n_init` will change from 10 to 'auto' in 1.4. Set the value of `n_init` explicitly to suppress the warning\n",
      "  warnings.warn(\n",
      "C:\\Users\\amil\\anaconda3\\Lib\\site-packages\\sklearn\\cluster\\_kmeans.py:1382: UserWarning: KMeans is known to have a memory leak on Windows with MKL, when there are less chunks than available threads. You can avoid it by setting the environment variable OMP_NUM_THREADS=1.\n",
      "  warnings.warn(\n"
     ]
    }
   ],
   "source": [
    "from sklearn.cluster import KMeans\n",
    "wcss= []\n",
    "for i in range(1,10):\n",
    "    kmeans = KMeans(n_clusters= i,init='k-means++')\n",
    "    kmeans.fit(scaled_df)\n",
    "    wcss.append(kmeans.inertia_)"
   ]
  },
  {
   "cell_type": "code",
   "execution_count": 116,
   "id": "c5fcca3d",
   "metadata": {},
   "outputs": [
    {
     "data": {
      "text/plain": [
       "[<matplotlib.lines.Line2D at 0x17251a543d0>]"
      ]
     },
     "execution_count": 116,
     "metadata": {},
     "output_type": "execute_result"
    },
    {
     "data": {
      "image/png": "[encoded data removed]",
      "text/plain": [
       "<Figure size 640x480 with 1 Axes>"
      ]
     },
     "metadata": {},
     "output_type": "display_data"
    }
   ],
   "source": [
    "plt.plot(range(1,10),wcss)"
   ]
  },
  {
   "cell_type": "code",
   "execution_count": 155,
   "id": "1330158a",
   "metadata": {},
   "outputs": [
    {
     "name": "stderr",
     "output_type": "stream",
     "text": [
      "C:\\Users\\amil\\anaconda3\\Lib\\site-packages\\sklearn\\cluster\\_kmeans.py:870: FutureWarning: The default value of `n_init` will change from 10 to 'auto' in 1.4. Set the value of `n_init` explicitly to suppress the warning\n",
      "  warnings.warn(\n",
      "C:\\Users\\amil\\anaconda3\\Lib\\site-packages\\sklearn\\cluster\\_kmeans.py:1382: UserWarning: KMeans is known to have a memory leak on Windows with MKL, when there are less chunks than available threads. You can avoid it by setting the environment variable OMP_NUM_THREADS=1.\n",
      "  warnings.warn(\n"
     ]
    }
   ],
   "source": [
    "kmeans = KMeans(n_clusters = 2,init='k-means++', random_state= 0 )\n",
    "pred = kmeans.fit_predict(scaled_df)"
   ]
  },
  {
   "cell_type": "code",
   "execution_count": 156,
   "id": "664f5053",
   "metadata": {},
   "outputs": [
    {
     "data": {
      "text/plain": [
       "array([1, 1, 1, 1, 1, 1, 1, 1, 1, 1, 1, 1, 1, 1, 1, 1, 1, 1, 1, 1, 1, 1,\n",
       "       1, 1, 1, 1, 1, 1, 1, 1, 1, 1, 1, 1, 1, 1, 1, 1, 1, 1, 1, 1, 1, 1,\n",
       "       1, 1, 1, 1, 1, 1, 1, 1, 1, 1, 1, 1, 1, 1, 1, 1, 1, 0, 1, 1, 1, 0,\n",
       "       1, 1, 0, 1, 1, 1, 1, 1, 1, 0, 1, 1, 0, 1, 1, 1, 1, 1, 0, 1, 1, 0,\n",
       "       1, 1, 1, 0, 1, 1, 1, 0, 1, 0, 1, 0, 0, 1, 1, 0, 1, 0, 1, 1, 1, 1,\n",
       "       1, 0, 1, 0, 0, 0, 1, 1, 1, 1, 0, 1, 1, 1, 0, 0, 1, 1, 1, 1, 1, 1,\n",
       "       0, 0, 0, 0, 1, 0, 0, 0, 1, 0, 0, 0, 0, 0, 1, 0, 0, 0, 1, 0, 1, 0,\n",
       "       1, 0, 0, 0, 0, 0, 1, 0, 0, 0, 1, 0, 0, 0, 0, 0, 0, 0, 0, 0, 1, 0,\n",
       "       1, 0, 1, 0, 0, 0, 0, 0, 0, 0, 1, 0, 0, 0, 0, 0, 0, 0, 0, 0, 0, 0,\n",
       "       0, 0])"
      ]
     },
     "execution_count": 156,
     "metadata": {},
     "output_type": "execute_result"
    }
   ],
   "source": [
    "pred"
   ]
  },
  {
   "cell_type": "code",
   "execution_count": 157,
   "id": "8c51853b",
   "metadata": {},
   "outputs": [
    {
     "data": {
      "text/plain": [
       "0.8523888567051724"
      ]
     },
     "execution_count": 157,
     "metadata": {},
     "output_type": "execute_result"
    }
   ],
   "source": [
    "silhouette_score(scaled_df,pred)"
   ]
  },
  {
   "cell_type": "code",
   "execution_count": 158,
   "id": "82575139",
   "metadata": {},
   "outputs": [],
   "source": [
    "scaled_df['cluster'] = pred"
   ]
  },
  {
   "cell_type": "code",
   "execution_count": 159,
   "id": "b41a3d23",
   "metadata": {},
   "outputs": [
    {
     "data": {
      "text/html": [
       "<div>\n",
       "<style scoped>\n",
       "    .dataframe tbody tr th:only-of-type {\n",
       "        vertical-align: middle;\n",
       "    }\n",
       "\n",
       "    .dataframe tbody tr th {\n",
       "        vertical-align: top;\n",
       "    }\n",
       "\n",
       "    .dataframe thead th {\n",
       "        text-align: right;\n",
       "    }\n",
       "</style>\n",
       "<table border=\"1\" class=\"dataframe\">\n",
       "  <thead>\n",
       "    <tr style=\"text-align: right;\">\n",
       "      <th></th>\n",
       "      <th>Age</th>\n",
       "      <th>Annual Income (k$)</th>\n",
       "      <th>cluster</th>\n",
       "    </tr>\n",
       "  </thead>\n",
       "  <tbody>\n",
       "    <tr>\n",
       "      <th>0</th>\n",
       "      <td>0.784883</td>\n",
       "      <td>0.619644</td>\n",
       "      <td>1</td>\n",
       "    </tr>\n",
       "    <tr>\n",
       "      <th>1</th>\n",
       "      <td>0.813733</td>\n",
       "      <td>0.581238</td>\n",
       "      <td>1</td>\n",
       "    </tr>\n",
       "    <tr>\n",
       "      <th>2</th>\n",
       "      <td>0.780869</td>\n",
       "      <td>0.624695</td>\n",
       "      <td>1</td>\n",
       "    </tr>\n",
       "    <tr>\n",
       "      <th>3</th>\n",
       "      <td>0.820905</td>\n",
       "      <td>0.571064</td>\n",
       "      <td>1</td>\n",
       "    </tr>\n",
       "    <tr>\n",
       "      <th>4</th>\n",
       "      <td>0.876812</td>\n",
       "      <td>0.480833</td>\n",
       "      <td>1</td>\n",
       "    </tr>\n",
       "    <tr>\n",
       "      <th>...</th>\n",
       "      <td>...</td>\n",
       "      <td>...</td>\n",
       "      <td>...</td>\n",
       "    </tr>\n",
       "    <tr>\n",
       "      <th>195</th>\n",
       "      <td>0.280000</td>\n",
       "      <td>0.960000</td>\n",
       "      <td>0</td>\n",
       "    </tr>\n",
       "    <tr>\n",
       "      <th>196</th>\n",
       "      <td>0.336336</td>\n",
       "      <td>0.941742</td>\n",
       "      <td>0</td>\n",
       "    </tr>\n",
       "    <tr>\n",
       "      <th>197</th>\n",
       "      <td>0.246154</td>\n",
       "      <td>0.969231</td>\n",
       "      <td>0</td>\n",
       "    </tr>\n",
       "    <tr>\n",
       "      <th>198</th>\n",
       "      <td>0.227454</td>\n",
       "      <td>0.973789</td>\n",
       "      <td>0</td>\n",
       "    </tr>\n",
       "    <tr>\n",
       "      <th>199</th>\n",
       "      <td>0.213910</td>\n",
       "      <td>0.976853</td>\n",
       "      <td>0</td>\n",
       "    </tr>\n",
       "  </tbody>\n",
       "</table>\n",
       "<p>200 rows × 3 columns</p>\n",
       "</div>"
      ],
      "text/plain": [
       "          Age  Annual Income (k$)  cluster\n",
       "0    0.784883            0.619644        1\n",
       "1    0.813733            0.581238        1\n",
       "2    0.780869            0.624695        1\n",
       "3    0.820905            0.571064        1\n",
       "4    0.876812            0.480833        1\n",
       "..        ...                 ...      ...\n",
       "195  0.280000            0.960000        0\n",
       "196  0.336336            0.941742        0\n",
       "197  0.246154            0.969231        0\n",
       "198  0.227454            0.973789        0\n",
       "199  0.213910            0.976853        0\n",
       "\n",
       "[200 rows x 3 columns]"
      ]
     },
     "execution_count": 159,
     "metadata": {},
     "output_type": "execute_result"
    }
   ],
   "source": [
    "scaled_df\n"
   ]
  },
  {
   "cell_type": "code",
   "execution_count": 160,
   "id": "b3117532",
   "metadata": {},
   "outputs": [
    {
     "data": {
      "text/plain": [
       "array([[ 3.46126032e-01,  9.36359998e-01, -2.22044605e-16],\n",
       "       [ 6.87195419e-01,  7.00316825e-01,  1.00000000e+00]])"
      ]
     },
     "execution_count": 160,
     "metadata": {},
     "output_type": "execute_result"
    },
    {
     "data": {
      "image/png": "[encoded data removed]",
      "text/plain": [
       "<Figure size 640x480 with 1 Axes>"
      ]
     },
     "metadata": {},
     "output_type": "display_data"
    }
   ],
   "source": [
    "sns.scatterplot(data= subset, x='Age',y ='Annual Income (k$)', hue ='cluster')\n",
    "centers = kmeans.cluster_centers_\n",
    "centers_df = pd.DataFrame(data=centers, columns=['Feature 1', 'Feature 2','Feature 3'])\n",
    "centers\n"
   ]
  },
  {
   "cell_type": "code",
   "execution_count": null,
   "id": "4071a4fc",
   "metadata": {},
   "outputs": [],
   "source": []
  }
 ],
 "metadata": {
  "kernelspec": {
   "display_name": "Python 3 (ipykernel)",
   "language": "python",
   "name": "python3"
  },
  "language_info": {
   "codemirror_mode": {
    "name": "ipython",
    "version": 3
   },
   "file_extension": ".py",
   "mimetype": "text/x-python",
   "name": "python",
   "nbconvert_exporter": "python",
   "pygments_lexer": "ipython3",
   "version": "3.11.7"
  }
 },
 "nbformat": 4,
 "nbformat_minor": 5
}
